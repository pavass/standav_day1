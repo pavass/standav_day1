{
  "nbformat": 4,
  "nbformat_minor": 0,
  "metadata": {
    "colab": {
      "name": "task_1.ipynb",
      "provenance": [],
      "collapsed_sections": [],
      "toc_visible": true,
      "authorship_tag": "ABX9TyMT9Q1ftCNEBsKb/AqrmyJN",
      "include_colab_link": true
    },
    "kernelspec": {
      "name": "python3",
      "display_name": "Python 3"
    }
  },
  "cells": [
    {
      "cell_type": "markdown",
      "metadata": {
        "id": "view-in-github",
        "colab_type": "text"
      },
      "source": [
        "<a href=\"https://colab.research.google.com/github/pavass/standav_day1/blob/master/task_1.ipynb\" target=\"_parent\"><img src=\"https://colab.research.google.com/assets/colab-badge.svg\" alt=\"Open In Colab\"/></a>"
      ]
    },
    {
      "cell_type": "markdown",
      "metadata": {
        "id": "Lma1FYSbLOET",
        "colab_type": "text"
      },
      "source": [
        "##Operations on text file"
      ]
    },
    {
      "cell_type": "code",
      "metadata": {
        "id": "1DKjK6arLUG-",
        "colab_type": "code",
        "colab": {}
      },
      "source": [
        "file=open('example.txt','r')"
      ],
      "execution_count": 0,
      "outputs": []
    },
    {
      "cell_type": "code",
      "metadata": {
        "id": "Ix9FgUTHMUST",
        "colab_type": "code",
        "colab": {
          "base_uri": "https://localhost:8080/",
          "height": 54
        },
        "outputId": "87f668d9-1762-43a0-9b08-85e644fb9a77"
      },
      "source": [
        "file.read()"
      ],
      "execution_count": 2,
      "outputs": [
        {
          "output_type": "execute_result",
          "data": {
            "text/plain": [
              "'Transforming the enterprise\\ngrowth story, powered by\\ntechnology and human capital.\\n\\nAs trailblazers in Quote-to-Cash & Price Management, and experts in Enterprise Sales Transformation, we are now seamlessly leveraging Big Data, Data Science and Blockchain capabilities.\\n\\nWith a team steered by highly experienced & certified consultants across Salesforce, Big Data, Cloud and Mobile technologies, offices across the globe, and a proven track record of successful project implementations, Standav is well poised to partner enterprises in driving their transformational journeys.'"
            ]
          },
          "metadata": {
            "tags": []
          },
          "execution_count": 2
        }
      ]
    },
    {
      "cell_type": "code",
      "metadata": {
        "id": "ZSFl5U4WQmDn",
        "colab_type": "code",
        "colab": {
          "base_uri": "https://localhost:8080/",
          "height": 34
        },
        "outputId": "1c5e9da4-a4aa-4f76-9a81-3d650fb7e463"
      },
      "source": [
        "file.name"
      ],
      "execution_count": 10,
      "outputs": [
        {
          "output_type": "execute_result",
          "data": {
            "text/plain": [
              "'example.txt'"
            ]
          },
          "metadata": {
            "tags": []
          },
          "execution_count": 10
        }
      ]
    },
    {
      "cell_type": "code",
      "metadata": {
        "id": "EzRpFPiSQrSN",
        "colab_type": "code",
        "colab": {
          "base_uri": "https://localhost:8080/",
          "height": 34
        },
        "outputId": "36482b4c-f05c-48e8-e090-afbadd65f7a1"
      },
      "source": [
        "file.mode"
      ],
      "execution_count": 11,
      "outputs": [
        {
          "output_type": "execute_result",
          "data": {
            "text/plain": [
              "'r'"
            ]
          },
          "metadata": {
            "tags": []
          },
          "execution_count": 11
        }
      ]
    },
    {
      "cell_type": "code",
      "metadata": {
        "id": "WV1HQczDMZxQ",
        "colab_type": "code",
        "colab": {
          "base_uri": "https://localhost:8080/",
          "height": 34
        },
        "outputId": "9d94ff77-0e56-4185-e24a-389689ed3f0c"
      },
      "source": [
        "file.closed"
      ],
      "execution_count": 3,
      "outputs": [
        {
          "output_type": "execute_result",
          "data": {
            "text/plain": [
              "False"
            ]
          },
          "metadata": {
            "tags": []
          },
          "execution_count": 3
        }
      ]
    },
    {
      "cell_type": "code",
      "metadata": {
        "id": "RmeYizXqMiPS",
        "colab_type": "code",
        "colab": {}
      },
      "source": [
        "file.close()"
      ],
      "execution_count": 0,
      "outputs": []
    },
    {
      "cell_type": "code",
      "metadata": {
        "id": "TWm04dTTMllp",
        "colab_type": "code",
        "colab": {
          "base_uri": "https://localhost:8080/",
          "height": 34
        },
        "outputId": "741561c2-4173-4f8b-a6a0-fc084d06f78c"
      },
      "source": [
        "file.closed"
      ],
      "execution_count": 5,
      "outputs": [
        {
          "output_type": "execute_result",
          "data": {
            "text/plain": [
              "True"
            ]
          },
          "metadata": {
            "tags": []
          },
          "execution_count": 5
        }
      ]
    },
    {
      "cell_type": "markdown",
      "metadata": {
        "id": "I2hU1OepNQ-M",
        "colab_type": "text"
      },
      "source": [
        "##Second method to import a text file with context manager"
      ]
    },
    {
      "cell_type": "code",
      "metadata": {
        "id": "74KIfmZiMoiv",
        "colab_type": "code",
        "colab": {
          "base_uri": "https://localhost:8080/",
          "height": 224
        },
        "outputId": "8f129224-14c2-48e4-bb7a-f8a847b05842"
      },
      "source": [
        "with open('example.txt','r') as file:\n",
        "  # print(file.readline())\n",
        "  # print(file.readline())\n",
        "  # print(file.readlines())\n",
        "  # for line in file:\n",
        "  #   print(line,end='')\n",
        "  size_to_read=100\n",
        "  f_contents=file.read(size_to_read)\n",
        "  print(f_contents,end='')\n",
        "  # f_contents=file.read(size_to_read)\n",
        "  # print(f_contents,end='')\n",
        "  while len(f_contents)>0:\n",
        "    print(f_contents,end='')\n",
        "    f_contents=file.read(size_to_read)\n",
        "\n",
        "\n",
        "\n"
      ],
      "execution_count": 19,
      "outputs": [
        {
          "output_type": "stream",
          "text": [
            "Transforming the enterprise\n",
            "growth story, powered by\n",
            "technology and human capital.\n",
            "\n",
            "As trailblazers Transforming the enterprise\n",
            "growth story, powered by\n",
            "technology and human capital.\n",
            "\n",
            "As trailblazers in Quote-to-Cash & Price Management, and experts in Enterprise Sales Transformation, we are now seamlessly leveraging Big Data, Data Science and Blockchain capabilities.\n",
            "\n",
            "With a team steered by highly experienced & certified consultants across Salesforce, Big Data, Cloud and Mobile technologies, offices across the globe, and a proven track record of successful project implementations, Standav is well poised to partner enterprises in driving their transformational journeys."
          ],
          "name": "stdout"
        }
      ]
    },
    {
      "cell_type": "code",
      "metadata": {
        "id": "6s3t2RNoOppb",
        "colab_type": "code",
        "colab": {
          "base_uri": "https://localhost:8080/",
          "height": 34
        },
        "outputId": "7a180422-cdc5-441f-afc9-8d48288d95ef"
      },
      "source": [
        "with open('example.txt','r') as file:\n",
        "  size_to_read=10\n",
        "  f_contents=file.read(size_to_read)\n",
        "  print(f_contents,end='')\n",
        "  file.seek(0)\n",
        "  f_contents=file.read(size_to_read)\n",
        "  #print(file.tell())\n",
        "  print(f_contents)"
      ],
      "execution_count": 26,
      "outputs": [
        {
          "output_type": "stream",
          "text": [
            "TransformiTransformi\n"
          ],
          "name": "stdout"
        }
      ]
    },
    {
      "cell_type": "markdown",
      "metadata": {
        "id": "xy8kctS_Vb3p",
        "colab_type": "text"
      },
      "source": [
        "##Creating a text file and writing in it"
      ]
    },
    {
      "cell_type": "code",
      "metadata": {
        "id": "8eCBAiWrPboK",
        "colab_type": "code",
        "colab": {}
      },
      "source": [
        "with open('example2.txt','w') as f:\n",
        "  f.write('test')\n",
        "  f.seek(0) #getting at the beginning of the file\n",
        "  f.write('example')"
      ],
      "execution_count": 0,
      "outputs": []
    },
    {
      "cell_type": "markdown",
      "metadata": {
        "id": "g6RQtuiCW-_Q",
        "colab_type": "text"
      },
      "source": [
        "##Reading and writing to multiple files"
      ]
    },
    {
      "cell_type": "code",
      "metadata": {
        "id": "7LYmdSsgPhSf",
        "colab_type": "code",
        "colab": {}
      },
      "source": [
        "with open('example.txt','r') as rf:\n",
        "  with open('example3.txt','w') as wf:\n",
        "    for line in rf:\n",
        "      wf.write(line)\n"
      ],
      "execution_count": 0,
      "outputs": []
    },
    {
      "cell_type": "code",
      "metadata": {
        "id": "WoBONhiaXkxI",
        "colab_type": "code",
        "colab": {}
      },
      "source": [
        "file=open('example3.txt','r')"
      ],
      "execution_count": 0,
      "outputs": []
    },
    {
      "cell_type": "code",
      "metadata": {
        "id": "5_BAjvrjX8Xt",
        "colab_type": "code",
        "colab": {
          "base_uri": "https://localhost:8080/",
          "height": 54
        },
        "outputId": "b783e571-ccb5-40ce-e7f6-c891f31cda09"
      },
      "source": [
        "file.read()"
      ],
      "execution_count": 33,
      "outputs": [
        {
          "output_type": "execute_result",
          "data": {
            "text/plain": [
              "'Transforming the enterprise\\ngrowth story, powered by\\ntechnology and human capital.\\n\\nAs trailblazers in Quote-to-Cash & Price Management, and experts in Enterprise Sales Transformation, we are now seamlessly leveraging Big Data, Data Science and Blockchain capabilities.\\n\\nWith a team steered by highly experienced & certified consultants across Salesforce, Big Data, Cloud and Mobile technologies, offices across the globe, and a proven track record of successful project implementations, Standav is well poised to partner enterprises in driving their transformational journeys.'"
            ]
          },
          "metadata": {
            "tags": []
          },
          "execution_count": 33
        }
      ]
    },
    {
      "cell_type": "markdown",
      "metadata": {
        "id": "aY2xAwVrYOL-",
        "colab_type": "text"
      },
      "source": [
        "##Copying a picture file"
      ]
    },
    {
      "cell_type": "code",
      "metadata": {
        "id": "6E9cYsaNYQVn",
        "colab_type": "code",
        "colab": {}
      },
      "source": [
        "with open('lena.jpg','rb') as rf:\n",
        "  with open('lena_copy.jpg','wb') as wf:\n",
        "    for line in rf:\n",
        "      wf.write(line)"
      ],
      "execution_count": 0,
      "outputs": []
    },
    {
      "cell_type": "code",
      "metadata": {
        "id": "7DZSGc8bY5iG",
        "colab_type": "code",
        "colab": {
          "base_uri": "https://localhost:8080/",
          "height": 54
        },
        "outputId": "02127b17-cfe6-4a6e-a6df-d9878fa0ff77"
      },
      "source": [
        "file=open('lena_copy.jpg','rb')\n",
        "file.read()"
      ],
      "execution_count": 37,
      "outputs": [
        {
          "output_type": "execute_result",
          "data": {
            "text/plain": [
              "b'\\xff\\xd8\\xff\\xe0\\x00\\x10JFIF\\x00\\x01\\x01\\x00\\x00\\x01\\x00\\x01\\x00\\x00\\xff\\xdb\\x00\\x84\\x00\\t\\x06\\x07\\x10\\x10\\x12\\x15\\x10\\x10\\x10\\x16\\x10\\x15\\x15\\x15\\x10\\x16\\x15\\x15\\x15\\x16\\x10\\x15\\x10\\x10\\x15\\x15\\x15\\x16\\x16\\x15\\x15\\x15\\x15\\x18\\x1d( \\x18\\x1a%\\x1d\\x15\\x16!1!%)+...\\x17\\x1f383-7(-.+\\x01\\n\\n\\n\\x0e\\r\\x0e\\x1b\\x10\\x10\\x1a-%\\x1f%+--------------/--------------------------------/-\\xff\\xc0\\x00\\x11\\x08\\x00\\xa8\\x01,\\x03\\x01\\x11\\x00\\x02\\x11\\x01\\x03\\x11\\x01\\xff\\xc4\\x00\\x1c\\x00\\x00\\x01\\x05\\x01\\x01\\x01\\x00\\x00\\x00\\x00\\x00\\x00\\x00\\x00\\x00\\x00\\x02\\x00\\x01\\x03\\x04\\x06\\x05\\x07\\x08\\xff\\xc4\\x00>\\x10\\x00\\x01\\x04\\x00\\x04\\x04\\x03\\x05\\x06\\x03\\x06\\x07\\x00\\x00\\x00\\x00\\x01\\x00\\x02\\x03\\x11\\x04\\x05\\x12!\\x061AQ\"aq\\x07\\x13\\x81\\x91\\xb12b\\xa1\\xc1\\xd1\\xf0\\x14B\\xe1#$C\\x83\\xa2\\xf1\\x163Rr\\x82\\x92\\xb2\\xff\\xc4\\x00\\x1a\\x01\\x00\\x02\\x03\\x01\\x01\\x00\\x00\\x00\\x00\\x00\\x00\\x00\\x00\\x00\\x00\\x00\\x00\\x02\\x01\\x03\\x04\\x05\\x06\\xff\\xc4\\x001\\x11\\x00\\x02\\x02\\x02\\x02\\x01\\x03\\x02\\x03\\x08\\x03\\x01\\x01\\x00\\x00\\x00\\x00\\x01\\x02\\x03\\x04\\x11!1\\x12\\x05\"AQq\\x132\\x91#Ba\\x81\\xa1\\xb1\\xc1\\xf0\\x143\\xd1C\\x15\\xff\\xda\\x00\\x0c\\x03\\x01\\x00\\x02\\x11\\x03\\x11\\x00?\\x00\\xf1$\\xe2\\x91\\xa5$ \\x98\\x81\\xd0\\x03 \\x07@\\x0cP\\x00\\x94\\xac`\\x82d+\\x1c \\x04\\x80\\x1d\\x00$\\x00.@!\\x94\\x12_\\xca0fY\\x03zuT\\xe4[\\xf8p\\xd9\\xbb\\xd3\\xb1]\\xf7%\\xf0\\xbb7\\xb2\\x01\\x1czF\\xdb.\\x16\\xfc\\x99\\xeeTTV\\x91\\xa9\\xf6q\\x8e1\\x9d\\x04\\xec\\xe3c\\xd5tpn\\xf1\\x97\\x81\\xc6\\xf5|Ue~k\\xb4n\\xf8\\x9b*f+\\x0e\\xe6\\x11v\\n\\xf4\\x15O\\xc5\\xec\\xf1\\x92G\\x9d\\xfb0\\xc3:\\x0cT\\xd0\\xbfb\\xda\\xf8\\x8d\\xe8\\xad\\x992R\\x8ab.\\xcd\\x0f\\x11\\xf8qQ\\x9f1\\xf5^c+\\x8b\\xa2\\xcfe\\xe9\\x9e\\xecI#Z\\xef\\xb2\\xd2\\xba\\xf0\\xe8\\xf2w-M\\x99_j\\xb0k\\xc18\\xf6\\xa3\\xf2[p\\xdf\\xbfFi\\x1f>c#\\xa3j3*\\xd3\\xd9l\\x19Yr\\xda,\\x12\\x80\\x19\\xc8$\\x89 \\xc1\\xb52!\\x86\\xa4Q\\x90\\x03 \\x91 \\x01r\\x86J\\x13T a\\xa6 d\\x00\\xd6\\xa0\\x02R\\x04iI\\tI\\x03\\xa9\\x01 \\x04\\x80\\x18\\xa0\\x01)X\\xc1\\x04\\xc8V:\\x00H\\x01\\xd0\\x02@\\x02\\xe4\\x00\\xeci&\\x80\\xb2y\\x04\\x12nxo+17S\\xc58\\xf7\\\\\\\\\\xcb\\\\\\xa5\\xa3\\xdazV2\\xaa\\xa4\\xfeYg\\x1e\\xfdN\\r\\x0b4\\x16\\x96\\xce\\x9c\\x99\\xdc\\xcbI\\x8fI\\x1c\\xc5\\x151\\x93\\x8c\\xb6\\x85\\x9c\\x14\\xe2\\xe2\\xcfV\\xc9q\\x82x\\x81\\x1d\\x97\\xa4\\xc7\\xb5N)\\x9e\\x13;\\x1d\\xd3kL\\xe6\\xbf\\'\\x11\\xe3\\x04\\xed\\x15\\xa9\\xb4|\\xf7\\xd9m\\xf3\\xdc4s\\x9fg\\'\\x8d\\x05J\\xc7y\\xfeap\\xb3\\xf8\\x9cY\\xeb\\xfd\\x15\\xee\\x99#Y\\x07\\x8a\\x16\\x9f \\xba\\xb5>\\x11\\xe62\\x96\\xadh\\xe2q\\xacz\\xf0R\\x0f\\xba\\xef\\xa2\\xd7\\x8e\\xf54d\\x97G\\xcfX\\xa8\\xec.\\x9d\\xf5\\xf9 \\x8b9DV\\xcb\\x81lt\\xcb\\xc4\\xa9$b\\x80\")G\\t\\xaaQ\\x0c5\"\\x89\\x00\\tA\"@\\x02\\xf5\\x0c\\x94&\\xa8@\\xc2L@\\x90\\x00\\xa0\\x90\\xd0@\\tI\\x1d1\\x03\\xa0\\x04\\x80\\x12\\x00b\\x80\\x04\\xa5c\\x04\\xd4\\xc8V:\\x00t\\x00\\x90\\x03\\xa0\\x01r\\x00\\xdf{&\\xe1\\xb1\\x8a\\x9f\\xdf<[\\x19\\xc8w*\\xea\\xe3\\xc7\\x93\\x15\\xbetox\\xdf\\x00\\xd8\\xaaF\\x8a\\x00Q\\\\\\x8fP\\xa7\\x9f$z\\xdfF\\xc9\\xf2\\x87\\x83f\\x0b\\t\\xe3\\x92\\xd7=\\xf0\\x8e\\xd2{f\\x89\\x9b$\\x1c\\xef\\xf0\\x86o\\xee\\xa4\\xf7n;;\\x97\\x91]\\x0c\\x0b\\xbce\\xe0\\xce7\\xab\\xe2\\xabk\\xf3]\\xa3\\xd1\\x88\\x0e\\xa2\\xbb\\x89\\x9e1\\xad3\\x17\\xc7\\x8d\\xdd\\xa7\\xcc\\xaeW\\xa8\\xae\\x99\\xea}\\x05\\xfbZ4\\xb91\\xd5\\x03}\\x07\\xd1t({\\x8ag\\x07\\xd4#\\xab\\xe5\\xf79\\xdcF\\xdb\\xc3\\xc8>\\xeb\\xbe\\x8bm?\\x99\\x18%\\xd1\\xf3\\xd4\\xa3\\x9a\\xee>P\\x88\\xe5c\"\\xa3k\\x91\\x99V\\x9e\\xd1t\\x19\\\\.[E\\x82*\\x00\\x84\\xa5\\x1c&)B\\xb2E$\\t\\x00\\tA#\\x04\\x00\\xcfP\\xc1\\x0c\\xd5\\x08\\x96\\x1ab\\x06(\\x01\\xa9\\x04\\x84\\x82\\x00PHJH\\x12\\x00H\\x01 \\x06(\\x00JV0ML\\x85a \\x04\\x80\\x1d\\x04\\t\\x00;\".4\\xd0I\\xec9\\xa9I\\xbe\\x10oG\\xaa{\\x1d\\xccL/v\\x19\\xe3I;\\x8b\\xd8\\xef\\xcc-\\xff\\x00\\x84\\xe3Z+\\xde\\xe5\\xb3\\xd1\\xf8\\xbf\\x0c$\\x81\\xcd\\xf2+%\\xb5)A\\xa3n\\x1d\\xee\\xbbS<\\xa3*\\x80\\x82o\\x984\\xbc\\xd5\\x8bOG\\xbb\\xad\\xedl\\xbd\\x89\\xc7G\\x19\\rs\\xbcG\\x93E\\x97\\x1f\\x80SU\\x16Y\\xf9QNFm\\x18\\xff\\x00\\xf6KO\\xe9\\xdb\\xfd\\n\\x837c\\\\\\x1du\\xa4\\xf5\"\\xf6=\\x00\\xbbZ\\xe1\\x834\\xf6\\xe4\\x91\\xca\\xb7\\xd7){Q\\x83k\\xf9#y\\x94\\xfbK\\xc2i\\r\\x91\\xb2\\x0e\\x9a\\xb4\\x8d7\\xf3\\xb5\\xd6\\x84\\xb4\\xb9<\\xdd\\xce3\\x93qZ/\\xe3\\xf3L\\x1ee\\x118i\\xdb#\\x9b\\xb9m\\xd3\\xdb\\xea\\xd3\\xba\\xa7*\\xb5l\\x1aF\\xff\\x00J\\xc9t\\xda\\x93\\xe9\\x9d\\xce\\x167\\x03G\\x90O\\x8c\\xff\\x00f\\x8a}Yk!\\x90\\xf1\\x13?\\xb2\\x7f\\xa1\\xfa-\\xf5\\xbfr9r\\xe8\\xf9\\xe3\\x10<N\\x1en\\xfa\\xae\\xf4z+)b#\\xb1K=\\xd0\\xf2M\\r\\x16r\\xc8\\xad\\x97\\n\\xd8i\\xe8\\xbf\\xb1\\x15A$%(\\xe15J\\x15\\x92\\x05$\\t\\x00\\t@\\t\\x04\\x82\\xf5\\x0c\\x10\\xcdB%\\x86\\xa4\\x81\\x8a\\x00d\\x00H\\x00\\x12\\x92\\x12b\\x04\\x80\\x12\\x00H\\x01\\x8a\\x00\\x14\\xac`\\xda\\x99\\n:\\x00H\\x01\\xd0@\\x90\\x07\\xab\\xfb!\\xe1@\\xfb\\xc5L\\xdb\\x07f\\x82:wZ+^+eo\\x93o\\x9e\\xf0\\x8b}\\xe3q8q\\xa2Fv\\xfea\\xd4\\x15\\xa2\\x16\\xf1\\xa6+\\x8f\\xd0\\xe8B\\xe7J\\xcax\\xa3TR\\xc9!\\xa0\\xde\\xf6y\\xef\\x19D0$\\xb8\\x0b.\\xdc7\\xb7K#\\xb7\\xe8\\xb8wa\\xf9\\xdb\\xbf\\x8f\\x93\\xd4W\\xea\\xca\\xbcm~\\xf7\\xc1\\xe6\\xec\\x99\\xf2Hww\\x88\\xf8\\xaf{>{-KIx\\xae\\x8e\\x0c\\xe7)\\xc9\\xcaOm\\x9dI!\\xd24\\xb4i\\xeev\\xf1z~\\x8a\\\\\\xb8\\xd2\\x15!\\x9a\\x1c\\x0e\\xef\\xe7^\\x89|\\x99:A\\xe9{H{\\x0e\\x97\\x8d\\xc3\\xdb\\xb3\\xaf\\xbd\\x8f\\xf6\\xdd<d\\x98\\xbak\\xa3\\xd3\\xbd\\x9c\\xf1\\xc6\\xa20\\xd8\\xaak\\x89\\x00?\\xec\\xd9&\\xb7\\x1c\\xb9\\xf5\\xdb\\x9f\\xaa\\xb6\\t.\\x10]d\\xac\\xe6]\\x9b\\xac\\xf6;\\x89\\xde\\x85h\\x87fo\\x83\\xe7\\x1ch\\xa9\\x1e;=\\xdfU\\xde\\xad\\xed\"\\xb4V\\x90&\\x9a$\\xe6\\xe3#\\xad\\xc2\\xe4\\xe5\\xd5\\xfb\\xc8\\xb6\\x0f\\xe0\\xaeW1\\x96\"\\x15X\\xc1\\xb52!\\x92\\x04\\x10$\\x00\\x05\\x04\\x88 \\x06z\\x86\\x08\\x16\\xa8D\\xb0\\xd3\\x10\"\\x80\\x05\\x00\\x1a\\x00\\x89)!& t\\x00\\x90\\x02@\\x0cP\\xc0\\x12\\x95\\x8c\\x1bS!G@\\t\\x04\\x0e\\x80\\'\\xc1E\\xad\\xe0U\\xee/\\xd1$\\xe6\\xa0\\xb6\\xcb\\xf1\\xe8\\x95\\xd3PG\\xd2\\\\\\x19\\x8c\\x87\\xdc1\\x8c\\xa1@\\nVW\\x93\\x1b\\x17\\x05\\xd9^\\x9fe\\x0f\\x94hg~\\xcbDL\\r\\x1c,\\xe34\\x8b\\t\\x19\\x9aCB\\xe8y\\x9a\\'\\xe8\\t\\xf8\\'lS\\xc2\\xf3\\x8c\\xed\\xf8\\xa9\\xdd+\\x9c\\xeby\\xdf~C\\xa0\\xaa4\\x16;\\'\\xb7\\xc1lbw2\\\\\\x8f_ \\x1d\\xe6y\\xfc\\x95-\\x97(\\xec\\xed\\xff\\x00\\xc1\\x12I\\xf6\\x8d\\x0e\\x8a\\xb6\\xd9b\\xac\\xb4\\xcff\\xe0\\xfd\\xa96\\xf3\\xe6=\\x12\\xb9\\x8e\\xab\\xd9\\xc6\\xcf8:l)\\xd6\\xc2df\\xe4\\x81\\xcf\\xa6\\xdf\\x80M\\x19&W:\\xda3\\x13\\x9d.\\x0e\\x00\\x87zu\\xf4\\xfd\\xf2W\\xa9\\x94\\xb8\\x9e\\xd3\\xc1\\xd9\\x93\\xb18\\x10\\x1eIs\\x18\\xd1\\xbe\\xe7I\\x1e\\x1d\\xfa\\xf2>{-\\x90{\\xd33\\xc9h\\xf1L\\xe1\\xbaq\\x12\\xb7\\xef\\xb9w)|\"\\xa2\\xa9\\n\\xf7\\xd1\\x05wB]\\xe1\\x00\\x92y\\x01\\xcdf\\xb6\\x1bZc\\'\\xa1\\x9f\\x90b\\x1a\\xd2\\xf3\\x19\\x00w\\xe6\\xb8\\xb6T\\xd1o\\x928\\xa5d-\\r\\xa9\\x91\\x0c\\x91\\x04\\x08\\xa0\\x01(\\x01\\x90H\\xcfP\\xc1\\x02\\xc4\"Y\"\\x91F($\\x14\\x00H\\x024\\xa4\\x86\\x98\\x81 \\x04\\x80\\x12\\x00b\\x86\\x00\\x94\\xac`\\xda\\x99\\n\\x12\\x08\\x19\\x04\\x89\\x00zw\\x02\\xf0Sg\\x83\\xdf\\xea\\xf1\\x1d\\xeb\\xb2\\x8c\\x8co8\\x1b\\xbd;1Qf\\xda:Nl\\xd8G\\xf5m|\\x8a\\xe0\\xb8\\xd9\\x8f3\\xd8)U\\x95_\\xd4\\xef\\xe5\\x1cb\\xd9\\x0e\\x89\\x0e\\x93\\xf5]\\x9c\\\\\\xc5>\\x1fg\\x9c\\xcf\\xf4\\xa7\\x0ft:<\\xff\\x00\\xda?\\x12\\xff\\x00\\x159\\x89\\x86\\xe2\\x86\\xda\\xde\\xce}x\\x9f\\xf3$\\x7f\\xe3\\xe6\\xb4\\xd9=\\x9cE\\x1eL\\xd6W\\x832<}z,\\xec\\xb1\\x1e\\xcf\\xc29v\\x96\\rTMs\\xde\\xff\\x00\\xa2\\xaaL\\xd1\\x18\\x9b\\\\<m\\xaeJ\\x13\\x1bC\\xc8\\xd5\\\\\\x99dJ\\xb3F\\x08\\xdcXJ1\\x81\\xe3\\x9e\\x1bi\\x8c\\xcd\\x0bE\\xb3w4\\x7f3z\\xfcU\\x91\\x97%6A4M\\xec}\\xec0\\xe2X,\\xb9\\xaei$\\xf2\\xd0\\xf0t\\x81\\xe8X\\xff\\x00\\x9a\\xe8\\xd1-\\x9c\\xfbV\\x8f9\\xe2\\xa6\\xe9\\xc6L>\\xf7\\xe4\\xbb\\xb4\\xbe\\x11B\\xe8\\xbf\\xc3\\x9c)\\x89\\xc6\\x11\\xa5\\xa5\\x8c\\xea\\xe2>\\x81YfD`\\x85\\xec\\xf5l\\x87\\x80\\xf0\\xf8P\\x1c[\\xa9\\xddI\\xdc\\xae]\\xb92\\x9b\\x1dD\\x8f\\x8a\\xb0Q62H\\x00QY\\xdc\\xf5\\xd9uu9\\xbd$|\\xf3\\x9dD\\xd6\\xcc\\xfd\\x1c\\xac\\x90\\xb26\\x9b\\xe0\\xbau\\xca\\xbe$TjdVH\\x10@\\x90\\x00\\x94\\x00\\xc8$g\\xa1\\x82\\x05\\xa9Q,\\x911\\x03\\x14\\x102\\t\\x1d\\x00F\\x94\\x90\\xd3\\x10$\\x00\\x90\\x02@\\x0cT\\x00)X\\xc1\\x84\\xe2\\x8e\\x80\\x12\\x00v\\x8bVW\\x1f&C5\\xfc\\'\\xc53`H\\x00\\x97G\\xd5\\xbd\\xbd\\x17O\\xf0S\\x8e\\x8a\\xbeOY\\x8b2\\xc2f0\\xecE\\x91\\xe5`\\xae}\\xf8\\x8a\\\\4m\\xc5\\xce\\x9d/i\\x9ew\\xc4\\xb9c\\xb0\\xae\\xe7\\xb1\\xbd\\'\\x91\\x1ek\\x95\\xff\\x00\\x0f\\xf0\\xec\\xfe\\x07n\\xefUVP\\xd4\\x7f3\\xe0\\xc7J\\xcay\\x17\\xd7\\x9fe\\xa9\\xb3\\x80\\x8fH\\xe0<\\x88=\\x9a\\xdd\\xe5\\xf1U\\xcaZE\\xf5\\xc53\\xd20\\x98v\\xc6(\\nT\\xbd\\xb2\\xfe\\x113sX\\xdb\\xb0\\x0e}_\\xd8k\\x9c>a2Z\\xecV\\xfe\\x85\\x19x\\xb7\\x0e\\x1d\\xa1\\xcc\\x95\\x87\\xef0\\x80\\xa1\\xa42\\xd9\\xd3l\\x8d{C\\x9al\\x10\\x08>ET\\xc79\\x99\\x9b\\x08i\\xea\\x10\\x902\\xaf\\xb3\\xdc\\x8ca\\xdb\\x88x\\xe5,\\xae\\xa1\\xd86\\xeb\\xff\\x00\\xaa\\xf8.\\xa6?\\xe5\\xd9\\xca\\xbf\\xf3h\\xa8x\\x0e\\'\\xe2\\x9f\\x88\\x9b\\xc5d\\x10\\x0f!\\xf0]\\x07{Q\\xd2(Q6\\xb8,<p\\xb4\\x06\\x80\\xd0\\x16iI\\xbe\\xd8\\xea-\\xf0\\x8enu\\xc4q\\xc4\\x08\\x06\\xcfa\\xcdc\\xbb*\\x15|\\x9dl?J\\xb2\\xee_G\\x9cg\\xf9\\x94\\xb8\\x90C\\x8d\\x03\\xd1r,\\xcb\\x9c\\xdf\\xf0=5\\x18\\x15R\\xb8[g\\x99g8:\\'e\\xaf\\x1e\\xc3\\x97\\xeaX\\xdb[G!\\xabz<\\xe3%\\x08 H\\x00J\\x00d\\x12\\x0b\\xd0\\xc1\\x02\\xd4\\xa8\\x96H\\x98Q\\x8a\\x00d\\x12:\\x00\\x8c%$4\\xc4\\t\\x00$\\x00\\x90\\x03\\x15\\x00\\n\\x860a2\\x14t\\x00\\x90\\x05\\x8c;:\\xae\\x8e5z[+l\\xb2\\x16\\xd1C\\xc1f2\\xc2\\xfdq<\\xb4\\x8f\\x91Y\\xac\\x99>;=S\\x82d8\\xe3\\xfcL\\x80j\\x8bK\\x18\\\\\\x03\\x9a\\xd7\\xba\\xc9\\x92\\x8fP\\x1a\\x00?x\\xf6\\\\OP\\xb1\\xb6\\xa3\\x13\\xa1\\x87Z\\xe6Ln5\\x87\\x0b3\\xe9\\xce\\x12\\xca\\xda\\xa9#\\xd3\\xac\\xfd\\xd7\\x86\\x8a>W\\xb8\\xf9\\xac\\xf0n<6[b\\x8c\\xb9\\xd1\\xdf\\xe0|)l[\\xddmWWI\\xdc\\x85\\x8cti\\x9e\\xcb\\x15W\\xf8\\xdaF\\xf8\\x19.Lw\\x13f\\x18\\xf8u:8m\\x8d \\x00\\xd2K\\x88\\xeat\\xb6\\x8f\\xe3\\xf0S\\x18\\xa7\\xdb&Rk\\xa4\\x1eC\\x99:`}\\xe37\\x15\\xa9\\xae!\\xc2\\x88\\x04\\x10kq\\xbdy\\x1b\\x1d\\x12kO[\\x1f{[f\\x83\\x1f\\x8ff\\x1e&\\xb8\\xf8C\\x8d4\\x0f/\\xc9(l\\xc9\\x7f{s\\xcb\\xa2\\xc4k\\xe6\\xe3\\x14\\xa1\\xcd\\xd4\\x0fF\\xf6\\xf5L\\xa6\\xbab\\xca\\x12\\xed\\x1b\\xde\\x15\\x92\\xe0\\x06\\xaa\\xc9u\\x1e`\\x9e`\\xfa\\x15\\xd3\\xa5j\\x08\\xe6]\\xb71gY\\xbcP\\x0bs\\x82\\x8b/\\x8dk\\x96i\\xc6\\xc1\\xb2\\xe7\\xa4\\x8cfc\\xc4\\xf2K\\xb3<#\\xbfU\\xca\\xbb:R\\xe2\\'\\xa6\\xc5\\xf4\\xaa\\xea\\xe6|\\xb3\\x8c\\xf7\\x93\\xb96\\xb9\\xd2\\x93ol\\xec$\\x92\\xd2!\\x95\\xb6\\xa0\\x1a3y\\xf6\\x12\\xf7\\xa5\\xa2\\x99\\xe9\\x99r+\\xf2\\x89\\x8c\\xc4E\\xa5\\xcb\\xb3T\\xb6\\x8f\\x1b\\x97K\\xaez\\x18+\\x0c\\x82@\\x0cP\\x00\\xa0\\x91\\x9c\\x86B\\x01\\xa9P\\xcc\\x910\\xa2(\\x00PH\\xe8\\x020\\x94\\x90\\xd3\\x10$\\x00\\x90\\x02@\\x02T\\x00\\xca\\x06\\r\\xa9\\x85c\\xa0\\x02\\x8d\\xb6U\\xd4\\xc3\\xc9\\x90\\xd9q\\xa2\\xb6]X\\xad-\\x15\\t\\xe6\\x82&\\xf4\\x81\\x01\\x18\\xddd\\x9b,F\\xdf\\x80\\xf1l8\\xa6\\xe1$y\\xf7s\\x01\\xe1\\xbad\\x922\\xcbX|\\x88.\\x15\\xd4\\xe9\\x06\\xf9.=\\xeb|\\xa3n<\\x92~/\\xe4\\xf5X\\xf2\\x06\\n%\\xa3\\x93\\x87\\xd8kZ\\xda;\\n\\x1dke\\x9bF\\xa7\\xf4\\x07\\x08\\xe7E\\xe0\\xad\\x82m\\x10vp\\xd2\\xf5H\\xd8\\xca\\x04\\xf8\\x9c0x\\xdc\\x91\\xe8M)dh\\xad\\x1e_\\x1bw\"\\xfdP\\x90\\xad\\x9c\\xde/\\xc1{\\xd8\\xe2\\x00\\x91O\\x07cD\\xb6\\x8d\\xb6\\xc7+\\xf2\\xa4\\xef\\x86\\x88H\\xc17.\\xc6\\xe1\\xe6c\\x9d)\\x96=n\\xea\\xe2\\x1a\\xda5\\xb3\\x89 \\xf4\\xe7\\xf9T\\xc9\\xc5\\xa2!\\x19\\xa9$\\x9e\\xf6w\\xb0\\xdcG##\\xd0\\x06\\xe6\\xf7\\xe8\\x15\\x0b6J:H\\xee\\xafH\\xab\\xc96q\\xf1\\xb3:M\\xdeK\\x8a\\xc7d\\xe57\\xb6\\xce\\xa5uB\\x0bQZ*\\xc2R!\\x89\\x9aR\\xb1\\xd0\\x90\\x05<f\\x1fP\\xaa\\xbbS\\x1d\\xef\\x81&\\xb8\\xe4\\xcb\\xe6<79\\xb3\\xa0\\x80;\\xae\\xd64\\'\\xf2\\x8f1\\xear\\xa9\\xf4\\xf93.i\\x04\\x83\\xb1\\x1b\\x15\\xac\\xe0\\x8c\\xa0\\x06(\\x00P\\x039\\x0c\\x10\\rJ\\x86d\\x89\\x85\\x19\\x04\\x8c\\x80\\x1d\\x00\\x00JH\\xe9\\x88\\x1d\\x00$\\x00\\x90\\x00\\x95\\x04\\x8c\\xa0\\x90\\xc2aX\\xeaR\\xd9\\x05\\xa8\\x19[\\xae\\x9d\\x15\\xf8\\xad\\x88\\xd90ZP\\xa42:\\xd53{\\x19\\x13a\\xdalR\\xc5t\\xf5\\x12\\xc8-\\xb0\\xde\\xe3\\xa8\\xe9%\\xa5\\xa0\\x16\\x91`\\xb4\\xb4\\x8a \\xf4;\\x05\\x87E\\x9b=\\xa3\\x838\\xee<N\\x18\\xff\\x00\\x12H\\x9a\\x10\\xd1#\\xabi,;C\\xc5uv\\x9d\\xc7B\\x0fJY\\xe7\\r\\x1a\\xa1g\\x93F\\x9c\\x00\\xed\\xc7T\\xac\\xb1\\x12\\xb5\\xa5\\xaa\\xb7\\xd9r\\x90rb\\x1cvo\\xcf\\xcf\\xb0\\xee\\x97\\x97\\xd1-\\xa2\\x0c[\\xe7\\x8fv\\x06:\\xf9\\x97\\x97X\\xee(\\x04\\xe9\\xf8\\x88\\xbcdTvl\\xd9\\xb4\\xc7T\\xe1WWM\\xf4*d\\xf6\\n+\\xe0\\x8f?{[\\x13\\x8f\\xddw\\xd1V\\xfa\\x7fb\\xca\\x97\\xed#\\xf7_\\xdc\\xc5\\xac\\'\\xab\\x13\\x90\\xc0\\x86\\xa8\\xa8\\x00\\xc2\\x86J:9nQ,\\xe7\\xc2\\xda\\x1d\\xcf\\xe4\\xaf\\xa7\\x16v}\\x8c\\x999\\xd5P\\xb9|\\x9b<\\xb3\\x85\\xe3\\x8c[\\x86\\xa7w+\\xafN\\x14+_\\xc4\\xf3\\x19~\\xad;^\\x97\\x08\\xad\\xc4XX\\xda\\xc2M\\x01[\\xad\\xd0_C\\x93)7\\xcb<\\x0b\\x89\\xd9\\x18\\x9d\\xc63\\xb1\\xe7\\xea\\x92\\xd8\\xe9\\x91\\x13\\x90\\xaa\\x18b\\x80\\x19\\x00\\x0b\\x90\\xc1\\x00\\xd4\\xa8f\\x1ab\\x01@\\t@\\x0e\\xa4\\x01\\tI\\x1d1\\x03\\xa0\\x04\\x80\\x12\\x00\\x15\\x04\\x82\\xa0\\x92@\\x98RXYej\\xa2\\xbd\\xbd\\x8a\\xd9n\\x97I!\\x06\\x90\\xa8\\x93\\xd1\\x04K<\\x87E\\x98\\xdd\\xa0_U\\xcf\\xc8\\x96\\xe5\\xa2\\xe8.\\x01\\x95\\xd4w\\xe7[\\xfc\\xc2\\xa4\\r_\\xb3\\xd2\\xd3$\\xcc\\xff\\x00\\xa9\\xb0\\xd7o\\x0e\\xb2~\\xaa\\x8b\\xbe\\x0b\\xa8\\xfc\\xc7\\xaed\\xd3\\xdbCO1\\xb1\\xf5\\x1b*\\xdb5D\\xec\\x80:\\xfa\\xaa\\xc68\\x98\\xbcl\\xb1\\xca\\x03\\xae8\\xcdT\\x8c\\x8d\\xd2\\x91g}@n\\xdf\\x91\\xe6\\xac\\x84x\\xd8\\xcf\\x85\\xbf\\x1d\\xff\\x002\\xdcPM<z\\xe0\\xc6G0\\xd8\\x11\\xa5\\xbc\\xc8\\x0e\\xa7V\\xed \\x11\\xb1\\xdft\\xce\\x0c\\x88\\xe4U\\xbfttpp~\\xf0L\\xe6K\\x18c\\xc3Z\\xebm\\xd3\\x85\\xec\\x7f\\xd2~J\\x97\\x1d\\x16I\\xc3\\x89A\\xf0d8\\xcf\\x8aK\\xe7n\\x0e3\\xb3\\\\\\xd3)\\xf3\\xb0Dc\\xf0\\'\\xe5\\xddX\\xab\\xf66\\xcaU\\xff\\x00\\xb6\\x8a_\\r\\x17\\x01\\\\\\xb3\\xd8\\x8eP\\x04\\xd8\\\\\\x04\\x92\\x9aco\\xcf\\xa2z\\xe9\\x94\\xdf\\x08\\xa6\\xec\\x8a\\xea[\\x9b5\\xd9?\\n5\\xb4\\xe9|G\\xb7@\\xba\\xb4\\xe0\\xa5\\xcc\\xb9<\\xee_\\xac\\xb7\\xed\\xaf\\x83S\\x1c,\\x8cl\\x00\\xa5\\xd1\\x8c\\x12\\xe8\\xe0\\xd9l\\xa6\\xf6\\xd9\\xc5\\xcfx\\xb7\\x0f\\x85i\\xd4\\xf1}\\xba\\x9f\\x82\\xd1]\\x12\\x9b)r\\xd1\\xe3\\xbcY\\xc6sb\\xc9k<\\x0c?3\\xfa-\\xab\\x19A\\x10\\x9bf\\x0e[\\x07u\\xce\\xba\\x1ae\\xa8e\\x95\\x8c\"\\xa0\\x01(\\x00\\\\\\x86\\x08\\x8d\\xa9P\\xcc\\x911\\x00\\x95\\x002\\x82BL@!)#\\xa6 t\\x00\\x90\\x02@\\x02T\\x12\\n\\x82IZ\\x15\\x90\\x8e\\xd8\\x8c\\xb9\\x13h.\\xadP\\xf1El\\x90+\\x91\\x04N*\\x99=\\x92<-\\xb2\\xa9\\x9b\\xd2c\\xc5rX\\x87wj\\xe7\\\\\\xbb\\x0f5\\xc9\\x93\\xdb\\xd9\\xa1\"9\\xd9d\\x9e\\xdf^\\x7f\\xa2h\\xad\\x8a\\xcd\\x17\\xb3\\xd9k\\x12Y\\xd5\\xed\\x00|\\x9d\\xf9\\xd2\\xaa\\xe5\\xc1e/\\xdcz\\xa3\\xcb\\xa2\\x94<}\\x97U\\xf9\\x1eD\\xac\\xff\\x00\\x06\\xad\\xf2h#\\x9c8\\r\\xd2\\x8e)\\xe2\\xb1\\xb8\\xb1\\xdf\\xb2u-\\x0e\\x9bOh\\xe2\\xe2\\xe3x\\xdd\\x84\\x1a\\xe4y=\\xbe\\x86\\xc1\\x08\\xf2\\x1eQ\\xaa\\x7f\\x99h\\xe0\\xe6y\\x9b\\xb0X9g\\x91\\xc5\\xf2\\xd6\\x96\\x17\\x92\\xe7\\x17\\x1d\\xa3\\x04\\xf35\\xcf\\xd0\\x15)9K\\x93=\\xb2\\x8c\\x17\\xb3\\xa3\\xc7\\xb2\\xe9\\x89\\x95\\xafq\\xb2_n\\'rK\\x8e\\xe4\\xfc\\xd5\\xf3\\xe9\\x99)z\\x9a\\xfb\\xa3\\xd3\\xe1u\\x80\\xb8\\xadh\\xf7U\\xbd\\xa2h\\x88\\xb1|\\xac_\\xa2\\x98\\xeb|\\x8d-\\xe9\\xe8\\xf4\\xdc\\x96\\x18\\xbd\\xd8,\\x03\\x90^\\x86\\x98\\xc7\\xc7\\x83\\xc2\\xe6\\xce\\xcf\\xc4jE\\xf9\\x1f@\\x90\\xb4#\\x03<\\xab\\x8e8\\xd7\\x13\\x1b\\x8c,a\\x8f\\xef\\x1eG\\xd1t(\\xc7\\x8b\\xe5\\x95\\xb6\\xd9\\xe6\\xb8\\x8cK\\xe4v\\xa7\\xb8\\xb8\\x9e\\xa5n\\x8a\\xd7Dh\\x8d\\xe2\\xd3Im\\x12\\x8a8\\xa8\\xefu\\xcf\\xc8\\xafke\\x91eV\\x95\\xca\\x92,\\x1c\\xaa\\xc0\\x12\\x80\\x05\\xc8d\\x91\\x84\\xa8\\x96\\x1ab\\x01)Y# \\x03L@\\x01*%\\x84\\x98\\x81\\xd0\\x02@\\t\\x00\\x01JH\\x90Ig\\x0e\\xc5\\xbf\\x1a\\xbf\\x92\\xa92\\xd8\\x0bzB\\x83!Q&\\x08\\x8dT\\xc9&\\x85\\x8a\\x9b\\xbf\\xebc\\xc3\\xb0\\xda\\xea\\x1aG\\xc7\\xcdrK\\xc5\\xee\\xce\\x87\\x1e\\xff\\x00\\x82n\\xb8\\x13_\\'O\\x83]X\\xa8\\xcfm\\xc7\\xc3p\\x12[\\xd1e]\\x9e\\xe9\\x8c\\x84\\x11\\xab\\x98?-\\xd6]\\x9a\\xca\\xb1@\\xf8\\xf7f\\xe3\\xb2;%pt\\xf0\\xf9\\x88\\xe4v\\xf5\\xe8\\xa52xg/\\x8938 \\x88\\xcb+\\xc3Z9\\xf7=\\x80\\x1dI\\xec\\x85\\x16\\xd93\\x9aK\\x93\\xc4\\xf8\\x93\\x88\\x9f\\x8e\\xd4\\xe2\\x0b\"ih\\x8d\\x9e\\xb6\\\\]\\xdd\\xc6\\x87\\xa7.\\xf7\\xa20Q0\\xce~F{\\x0c\\xe2\\x1c\\xacei\\x9e\\x87\\x93f:\\xc0\\xd5\\xcf\\x91\\xf3\\xed\\x7f\\xaa\\xe5]V\\x9f\\x07\\xaa\\xf4\\xec\\xcf5\\xe3.\\xce\\xca\\xcd\\xb3\\xb0l833\\xff\\x00\\t\\xc7\\x97/E\\xd6\\xc1\\xbb\\xf7Y\\xe7=g\\x13\\xff\\x00\\xa26\\x12\\x1d\\xb6]Fy\\xa8\\xaet\\xcc\\xdeo\\x95\\xe1\\xf1\\xad1\\xc8\\xd1\\xab\\xf1MNK\\x8b\\xec\\xb6\\xdcf\\x97\\x92\\xe8\\xf2.)\\xe1)\\xb0N&\\x8b\\xe3\\xe8\\xe1\\xd3\\xd5u\\xea\\xbdO\\xeed\\xd6\\xbb3\\xad+J\\x029X\\xaa\\xb2$\\xa3\\x9d34\\x95\\xc7\\xc8\\xaf\\xc5\\x96\\xc5\\x82V60*\\x00\\x17!\\x81\\x18J\\x87$L(\\x05)#($4\\xe2\\x82\\x12\\x92\\xc7R@\\x94\\x80\\x90\\x02(\\x00R\\x92\\x14m\\xb2\\xad\\xaa\\x1eR\\x06\\xce\\x84m\\xa0\\xba\\xd0\\x8aH\\xa4\"S\\xf4\\x04NU\\xb6\\x1a\\x10\\tI-a\\x9b_\\x8a\\xcd\\x93=E\\xa2\\xc8.H\\xdc)\\xdf\\x13^\\x7f\\xd0\\x05\\xccE\\xa4\\x93\\xd9kY\\xcbQ\\xdc\\xf9)\\x06Z\\xe1\\x89\\xbf\\xbdFyoC\\xe3il\\xe8j\\xfb>\\x82\\xc1\\x1dQ\\xb7\\xd0}\\x16M\\x1bW\\x04\\xae\\x86\\x86\\xcaP\\xac\\xe3\\xe60\\x81g\\xe0<\\x90\\xc8G\\x92{H\\x9c\\xbav\\xb3U\\x862\\xea\\xf6\\xb2j\\xeb\\xbe\\xc5]O[(\\xbb\\xb3 \\xd7\\x1d\\x04y\\xdf\\xc5\\\\R\\x1e]\\x10s\\x85\\xf2\\xbf\\x92\\x89=\\x13\\x15\\xb3K\\x96;D\\xadk\\x8e\\xc7k\\xe9\\xbe\\xe3\\xf1\\xa5E\\xebp\\xda7\\xe0MF\\xe4\\xa5\\xd36 \\xaeI\\xec\\x11c\\x05\\x891<<t?\\x82\\xb2\\xbb\\x1c$\\xa4WuJ\\xd88\\xb3\\xd42\\xbcX\\x960\\xe1\\xbe\\xcb\\xd1\\xd55(\\xec\\xf0\\x99T\\xba\\xacqg\\x03\\x8ap\\xef\\x88\\x89\\xe2\\xd8\\x8e~ad\\xca\\x8c\\xa3\\xef\\x87\\xc1\\xd5\\xf4\\xcbab\\xfc\\x1b:`\\xe5\\xf9\\xb48\\xc6{\\xb9\\x80\\xba\\xaa)\\xf1sT\\xbe\\xe5Y\\xfe\\x95*\\xfd\\xd1\\xe8\\xc3q\\x87\\x01:2f\\xc3\\x0bo2\\xdf\\xd1w\\xe8\\xcaO\\x86p\\xa5\\x16\\x8c\\x14\\x91\\x91`\\x8a#\\x98<\\xc2\\xdf\\xc4\\x90\\xa5\\x1cLv\\x16\\x0b\\xeb\\xda,\\x8b(\\x85\\xc8\\x9ctZ%X\\x02\\xe4\\x12F\\x12\\xa1\\x99\"a@*\\x19 \\xa5$2\\x98Q\\x82\\x82X\\xe9\\x88\\x12\\x00t\\x00\\xc5\\x0c\\x06\\n\\x11%\\xbc<k\\xa3Ez[+l\\xb2\\x02\\xd7\\xd0\\xa3\\xfb\\x97\\xbb`\\xd3\\xf2U\\xcak\\xea\\x1a-A\\x97\\x03\\xf6\\x9f\\xa4\\xf6 _\\xc0\\xf2Yg{]!\\xd2E\\x91\\x87\\x81\\x9d\\xc9\\x1d\\xf9\\xfc\\x96i]7\\xf3\\xfa\\x0f\\xc1JSg\\xed\\x1a\\xed\\xc9P\\xd3}\\x8c\\x99\\x1b\\x1bo\\x17\\xfe\\xc3\\xf4J1g\\x15F\\xc8\\xed^\\x83\\xbf\\xc5F\\xc6h~\\x1f\\xc2\\x17\\xcb{\\x80*\\x8fj\\xea\\x96R\\x1a\\x11=\\xeb\\x87\\xb1\\x1a\\xa3\\x00\\xecF\\xce\\x1d\\x88\\xd8\\xac\\xc6\\x93\\xa8\\xf1\\xd1J#g+5\\x88\\x80\\x074\\xac\\x94\\x8f\\x0f\\xe3\\x8d\\xf1\\x8f\\x17t\\x1a\\x0f\\xad\\x1b\\xfa\\xad\\x15~S5\\xbf\\x98\\xce\\x11\\xb7\\xc4\\xab>J\\xc7\\xc1\\xc8Z\\xeb\\xf9\\xa2\\\\\\x84x;\\xbe\\xf9\\xafh\\xe9\\xe9\\xcd\\xa7\\xf4U\\xf4\\xcb~6\\x8d\\x86Y\\x89\\x12\\xc6\\xd7]\\x9a\\xa7z\\x8d\\x8a\\xe6[W\\x8c\\x9f\\xd0\\xf5\\xd8\\x99J\\xda\\xa2\\xfe~~\\xe5\\xb0\\xaa\\xd1\\xaf\\xc9|\\x9a\\xae\\x0c\\xcc\\xf4\\x9ft\\xe3\\xe8\\xbax\\x17~\\xeb8^\\xb3\\x89\\xe5\\x1f\\xc4F\\xc7\\x19\\x87\\x124\\xb4\\xf5]I\\xc5Ih\\xf3UX\\xeb\\x96\\xd1\\xe7y\\xc6K.\\x1d\\xda\\x99zn\\xc1\\x1c\\xc2\\xe2db\\xce\\xb7\\xe5\\x13\\xd8\\xe1\\xe7\\xd7\\x91\\x1f\\x19v^\\xc98\\x93\\xfc9\\xf7\\x1c\\xaf\\xf5W\\xe2\\xe7k\\xdb#\\x1e\\x7f\\xa4\\xa9nu\\xfe\\x84<S\\xc1qb\\x9af\\x82\\x9a\\xfa\\xbd\\xb9\\x1fU\\xe8\\xb1\\xb35\\xf6<\\xad\\xb4\\xca\\x0f\\x93\\xc9s\\\\\\xb6H\\x1eY#KH\\xf9\\x1fE\\xd0mIm\\x15\\xa6q1\\x11\\xd1\\xb5\\xcc\\xc8\\xafOe\\xb1\"X\\x1a\\x18\\x17($\\x8c%$\\x911\\x00\\x15\\x0c\\x90R\\x92\\x19L(!A,% %$\\t\\x00\"\\x86\\x01\\xc2\\xcbWS^\\xd9\\x12e\\xe6\\x8a]8\\xad\\x15\\x92\\xb0\\xd2\\xcb\\x91o>(h\\xa2WHv+.\\xc6\\r\\xef\\'s\\xcd\\r\\x91\\xa2?|\\xe09\\xd8\\xf9\\x80\\xab\\x92C&=j\\x17\\xd7\\xaf\\xe5\\xfb\\xf2U\\xbe\\x07EG<\\x87RV2-\\xc3(\\x03z=\\x87\\xe6R\\x0f\\xb3[\\xc1XV\\xc8\\xd7\\xbb\\x9b\\xac\\xb7\\xd0\\x904\\xaa\\xac\\xde\\xd1\\xa2\\xa4\\x9a=?%f\\x97\\x13\\xdc6\\xfdF\\xc4\\xfd\\x15[-\\xd1\\xd4\\x16M\\xf4\\xdf\\xfa\\x1f\\xdft&C\\x8f\\x05,\\xce\\xf7#\\xb2\\x86\\xc9H\\xf0\\x9e*n\\x9c\\\\\\xa0\\xef\\xa5\\xc0|t\\x83\\xf9\\xadu\\xafa\\x8a\\xcf\\xce\\xcc\\xe3\\xe4\\t\\xb4#b\\x8f\\x9a\\x18#\\xad\\x1cb\\xac~\\xfc\\x8aVX\\x89p\\xd8\\xd7\\xc4Ac\\xab\\xb5r#o\\x9ax\\xc62Z\\x92\\x17\\xf1\\'[\\xf2\\x83\\xd3:\\x99\\x7f\\x12\\xbd\\xaf\"C\\xa9\\xb7G\\xbbGp<\\xba\\xaa\\xed\\xc5\\x84\\xa2\\xd4{5bg\\xca\\xbb\\x94\\xed\\xe5\\x7fo\\xe2k\\xf0\\xb8\\x82\\xc75\\xed<\\xa8\\x8f0\\xb9\\x10\\x93\\x84\\xb7\\xf4=\\x84\\xe3\\x1ba\\xaf\\x86z\\x86O\\x8d\\x12\\xc6\\x1c;/EM\\x8aqL\\xf0\\xb9\\x94:lh\\xb3<\\rx\\xa7\\x0bVJ)\\xf6Q\\x0b%\\x07\\xb4b\\xf8\\x87\\x85\\xc8\\xb7\\xc5\\xf2\\xe8\\xb9y8[\\xe6\\x07\\xa4\\xc0\\xf5d\\xfd\\x96\\x1c\\xbc\\x9f;\\x97\\x0c\\xed\\x0f\\xb2\\xde\\xa0\\xf3\\x0b5\\x19S\\xa5\\xf8\\xc8\\xdf\\x97\\x81^L|\\xa3\\xd9\\xa0\\xcdr\\x8c.g\\x17!\\xaa\\xb6#\\x98+\\xd0ce\\xedm3\\xc8\\xe5a\\xce\\x99i\\xa3\\xc6x\\xaf\\x86f\\xc1\\xbc\\xb5\\xe2\\xdb\\xfc\\xae\\xe9\\xf1]\\t8\\xd9\\x13\"\\xe0\\xcb\\x11[.e\\x91\\xd3,\\x05\\xca\\x92H\\x82Q\\x89\\x13\\x10\\x03\\x942AJHe0\\xa0\\x85\\x04\\xb0\\x82\\x92\\x04\\x80\\x12\\x90\\x10\\nTv\\xc0\\xb9\\x03)t\\xea\\x87\\x8a+d\\xe1[\\'\\xe2\\xb6@\\x89\\\\\\xa9=\\xbd\\x96\\x06\\xc7X>\\x9fD\\xbb$\\x92\\x17X\\xddJ\\x15\\xb1P\\xe4\\x02\\x1e\\x81lf]\\x80\\xaa\\x9fE\\xb1\\xecm!\\xc5T\\xf6Y\\x1d\\x0c\\xec1\\xa0\\xf3\\xc8s\\x1d\\x8fD\\xbb\\xf8\\'_&\\x93\\x82\\xf1\\xbe\\xe3\\x10\\xc2\\x06\\xb2\\xf3\\xf6z:\\xb7\\xdf\\xf2\\xf4S(y!\\xab\\x9f\\x8b\\xe4\\xf6,\\xb8\\xb1\\xe0\\xbd\\x87ju\\xf7\\x07\\xa8#\\xa1\\xbbY$\\x9a\\xec\\xdct\\xc5\\x00\\x00I\\xb2R\\xd9K\\x1c\\xdb\\xf9\\xa9\\x1fZ>~\\xe2|G\\xbc\\xc5N\\xfe\\xf2\\xc9\\xfe\\x92[\\xf9.\\x84\\x17\\xb1\\x1c\\x9b^\\xe6\\xce)\\x82\\xf7\\x1b\\xfeJ7\\xae\\x03[-\\xe10\\xf6/\\x9aF\\xc6H\\xb6\\xd7\\x01\\xe1\\xe4w\\xae\\xc7\\xc9\\x04\\x94\\xcb\\xbb\\xf7VG\\xb2\\xb9\\r\\x1fR\\x0f\\xcc\\x15bb\\x1d\\xa8\\xb3\\xc9\\x9a\\xc61\\xa4\\r\"\\xb9\\x02M\\x13\\\\\\xfc\\xa9U\\xff\\x00\\x12\\xa9I\\xcaK{7\\xafU\\xc8\\x85q\\xae\\x0fZ_}\\xff\\x00\\xbd\\x1b_g\\xfcp\\x19 \\x83\\x13M\\x0f 6NM\\x0e<\\x83\\x87@{\\xab+\\xa9U\\xf9z*\\xbb.Y+V\\xa5\\xe5\\xf5\\xfa\\xfd\\xcf`\\x05i05\\xa18\\x03\\xcd\\x00\\x9e\\xba3\\xb9\\xf7\\x0e2a\\xa9\\xa2\\x9d\\xddc\\xc8\\xc4\\x8d\\x8b\\x7f\\'_\\x07\\xd4\\xe7K\\xd4\\xba2\\x11K>\\nN\\xa3\\xe8\\xe5\\xc9N\\xcci\\x9e\\x91\\xaas+4\\xb2K\\x87\\xcc\"\\xd1 \\x17\\\\\\x8f0\\xbbX\\xd9\\x8aKi\\x9ec7\\xd3gS\\xda\\xe8\\xf2>3\\xe0\\xa90\\xa4\\xc9\\x18\\xd5\\x1f\\xe2\\xd5\\xb6mMl\\xe5\\xe9\\xae\\x19\\x8bxYd\\xb41\\n\\xacbD\\xc4\\x02\\xe5\\x0c\\x94\\x02RC)\\x85\\x04(%\\x84\\xa4\\x81 \\x04\\xa4\\t\\xa0b\\xd7E\\x7f\"\\xb6[\\x0bz\\x10g\\x15FK\\xf6\\r\\x1e\\xc4\\xc7.h\\xe5\\x8c\\x1e\\x1d\\xcfu0z\\xf6\\x03\\xb9B[\\x06\\xf4O\\x8clq\\xd3Z\\xf2\\xe7o\\xaa\\xf9yWoD\\xcd\\xe8\\x85\\xb7\\xd9Y\\xc7m_\\xba\\xea\\x94\\x92J\\xa7\\r\\xd4H\\x95\\xd9&\\x1d\\x96\\xf1_\\xb2\\x92K\\x81\\xe2\\xf9\\'\\xcc\\x1e,\\x006\\xeb\\xe7\\xb8\\xdf\\xd5Q\\x12\\xe9\\x0b.\\x9b\\xdc\\xcc\\xc9I\\xd9\\x8ei\\xf5\\x17\\xbd|-_\\x1e\\x8a~M\\xb6h\\xecN\\x11\\x8f\\xcc!\\xc4\\x9a\\xd6\\xc6{\\xaa\\xb0\\x01$nw\\x04}\\x9d\\xab\\xa9\\xf5M*\\xd3\\\\\\x97y\\xca\\x1c\\xa3Q\\xc3|}\\x84\\x966\\xfb\\xf7\\x88d\\xa0<V\\x1a\\xef0y\\x0fKY^6\\xba4F\\xf4\\xfb:\\xf9\\xce3LfP<!\\x85\\xf7\\xd0\\x8a\\xb0A\\xe5\\xf1U\\xfe\\x0b\\xd9o\\xe2\\xadl\\xf9\\xdaw\\x17x\\x8f3d\\xfa\\x93g\\xea\\xb7%\\xa5\\xa3\\x94\\xde\\xf9#\\xc2b\\x0co\\x07\\xa1;\\x8e\\x89%\\x1d\\xa1\\xa3-3\\xb3$\\xcc\\x03a\\\\\\xc1\\x03\\xa1\\xee\\xb3\\xa4\\xd9\\xa3h\\xa4\\xf3d\\xfc\\x0f\\xa7t\\xfd\\t\\xf2G-\\x10\\xd1\\xd7\\xeavM\\x16$\\xc8\\\\\\xc2\\xcd\\x8f5r\\xe4\\xac\\xed\\xe4\\xd9g\\xf1\\x11>\\x8e\\x97\\xb5\\xfe\\x12y\\x10Z<\\'\\xe5\\xcf\\xa2\\xcd~C\\xa6k}5\\xfeN\\xae\\x0e\\x02\\xcb\\xa2Zz\\x92|~\\x9d?\\xf7\\x81ar\\xa2$\\xd1\\x89\\x8aB\\xd2\\x0e\\xec\\xb2=lm\\xf0\\xda\\xfc\\x95\\xd5\\xe4U.|\\xbf\\xc1\\x8a\\xdc\\x0c\\xaa\\xde\\x9c\\x1f\\xf2\\xe5~\\xa8\\xf7>\\t\\xcd\\xe3\\x9a\\x08\\xe2\\xf7\\x85\\xcf\\x8e64\\xea \\xbe@\\xd0\\x07\\xbc\\xbe\\xb7\\xd7\\xa8\\'u\\xa9-pe\\x93R\\xe5\\x7f3\\xbd. 4\\xd1\\xd9:[+$\\x06\\xd409\\xf9\\xaeU\\x1c\\xcd \\x85M\\xb4\\xc6\\xc5\\xa6l\\xc6\\xcb\\x9d2\\xdaf\\x1b\\x1d\\x95\\xcb\\x85v\\xa6\\xddw\\x1d=W\\x16\\xecy\\xd2\\xfc\\xa3\\xd1\\xeb1\\xb3*\\xca\\x8f\\x8c\\xbb.a\\xf3VJ\\xdfu0\\x06\\xc5o\\xd5l\\xc6\\xcd\\xdf\\x129y\\xfe\\x95\\xaf|:<\\xbf\\x8d8s\\xdd<\\xbe!m;\\xd0]\\x06\\xd4\\x96\\xd1\\xc1\\x95n/L\\xc6V\\xea\\x92\\x03\\t\\x88\\x05\\xca\\x19 %$2\\x98PB\\x82XJH\\x12\\x00&5Y\\\\v\\xc1\\x97#m.\\x9c#\\xa4V\\xc2%>\\xc8\\x13\\x16\\\\\\x97\\xc2CDP\\xf3!aC\\x9d\\xf7\\xb5\\x81\\x8dd\\x0e\\x11\\x80<N\\xa2]#\\x8f7\\x13\\xdf\\xa5t\\x00\\x0e\\xe4\\xd9\\xa5\\xae\\x05\\xe7e\\tr\\xc0\\x7f\\xc5h\\xf8\\x14\\xbe+\\xeaN\\xdf\\xd0\\x91\\x99x\\xaa\\xf7\\xad?\\x02\\x84\\x97\\xd4\\x8d\\xbf\\xa0\\xff\\x00\\xc0l\\x07\\xbc\\x1by\\x14i}Co\\xe8\\x13p\\x84r\\x90\\x0f\\x81P\\xe3\\x17\\xf2J\\x93@\\xbf\\tf\\xcc\\x83\\xa5\\xf8I\\xef\\xfa\\xaa\\xd51\\xfa\\x8e\\xedo\\xe0X\\xdc\\x1b\\xa2\\xa0Hx#\\xc2\\xe1z^<\\xafp\\x9f\\xc3\\xc4\\x85-\\x9b\\xde\\x18\\xc3\\x0cv[4o\\'S\\x1f\\x06\\xe2\\xae\\x9a\\xf6\\x8e\\xbeM\\xfcT\\xc9\\xf0j\\xae^I&wO\\x05\\xe1\\xddG\\xdd\\xb4\\xf8\\x1b\\xa7r\\x00%\\xc4\\x9b\\x03\\xb0\\x1f\\x8a\\xab\\x7fA\\xa5\\x1d\\xf6Z\\xe3Y\\xbd\\xd6_\\x89\\xd4\\x00\\xfe\\xc8D\\xd0*\\xbf\\xb4\\xa8\\xc5\\x0f\\xf3\\nt\\x93+\\x93i3\\xc2\\xe7\\x1d\\x90gEC\\x1d\\xec9\\xf4J\\xd9\\'j\\x18\\x19Z\\xe6\\xd5\\\\\\x98\\x1bCY\\x00\\x03d\\xf2\\x01,\"\\xb5\\xe5.\\x87\\x9c\\x9e\\xf4\\x82\\x0f\\x80\\x13L\\x1f\\xfb\\xc9`|\\x93j\\xb7\\xf1\\xfdE\\xdc\\xd7\\xcf\\xf4 {p\\xe6\\xb6\\xae\\xa3\\xfbG~mL\\xbc>\\x17\\xf5\\x11\\xf9\\x7f\\xa8i \\x80\\x9b\\xb2?\\xcco\\xe6\\xc4\\xde\\xd0\\xf7\\x1d\\xcc\\x86C\\x13\\x1d\\xee\\xa1t\\xa0\\xbbs\\xad\\x9b\\x10\\x06\\xdb\\x0f\\xdd\\xacyU\\xd39/9k\\xf4;\\x1e\\x9b\\x91\\x93L%\\xf8Uy&\\xfb\\xe4\\xe8\\x9c\\xca^\\xb8Y>\\x05\\xa5e\\xff\\x00\\x89G\\xc5\\x9f\\xdb\\xff\\x00N\\x97\\xff\\x00\\xa5\\x98\\xbb\\xc7\\x7f\\xd7\\xff\\x00\\x03\\xcb\\xf3G\\xc73$\\x8b\\r0\\x90;m\"\\xc1\\xbd\\x88\\xd2:\\x9b\\xe7\\xf3\\xb5\\xd0\\xc6q\\xadx\\xf9\\xed\\x7f\\xbf\\xc4\\xe2\\xe7\\xf9\\xdd/\\xc4T\\xb8?\\x9e\\xf4\\xff\\x00\\xa1\\xeb\\xb8\\xc8_>\\x1d\\xaep\\xf7r\\x164\\x90?\\x91\\xc4\\x02G\\xc0\\xad\\xb5\\xcbL\\xe6I|\\x19<\\x8b\\x8c}\\xdc\\xa7\\x0b\\x8a\\xf0\\xbd\\xa6\\x81<\\x9c:\\x10\\xb5N\\x8d\\xaf(\\x95\\xa9k\\xb3w\\x0c\\xedx\\xb6\\x9b\\x0b+Z\\x1c\\x1cD\\rx\\xa7\\x04\\x92\\x82\\x92-\\xae\\xd9A\\xed\\x18\\xfc\\xf7\\x86\\xc8\\xb7E\\xf2\\xfd\\x17\\'#\\t\\xaft\\x0fO\\x83\\xea\\xb1\\x9a\\xf0\\xb0\\xc6cdsN\\x99\\x05\\x8e[\\xf4U\\xe3d\\xca\\x0f\\xc6E\\xd9\\xb80\\xb6>Q0<K\\x82\\x11\\xc9\\xa9\\xbc\\x9d\\xd3\\xb1]6\\xd3\\xe5\\x1eZ\\xca\\xa5[\\xd39AIP.P\\xc1\\x02\\x94`\\x8aaF\\n\\tc\\xa9 AJ[\\x02\\xcc,[\\xe9\\xafHF\\xc9\\xedi \\x12\\xa0\\t!\\xe6\\xb2\\xe4\\xfc\\x0c\\x88\\xa5\\xf0\\xb8\\x15\\x8d\\x8c\\x8b_h_\\xef\\xaa\\x00\\x82V\\xeciA \\xe0\\xdfH@[\\x1b\\x1f\\'}G/\\xc1I\\x04\\xa0~\\xff\\x00\\xaa\\x90\\x040sF\\x80\\xb9\\x0c\\x8etf3\\xb8o\\x88yw\\xa5;\\xe3B\\xeb\\x9d\\x9a\\xbfe\\x98\\x99D\\xf3@\\xda,v\\x1ew\\xd7g\\xb4\\xb3I\\tZ/\\xa9\\xe9\\x9e\\xa5\\x89f\\x97[yP\\xfa\\x05\\x9d\\xbd3lV\\xd1\\xe2\\xdck\\x9dI\\x89\\xc5H5\\x9d\\r%\\x80\\x03\\xe1!\\x84\\x8b\\xae\\xbb\\xdf\\xe0\\xae\\x82\\xd21\\xdb-\\xbd|\\x19\\xb9S2\\xa2&\\x82\\r\\x8e};%kc\\'\\xaeK\\xf9\\xac\\xc4hh7L\\x1e\\x8d$\\xd9\\xa5\\x13[I\" \\xf9m\\x9c\\xc2\\xd2I\\xed\\xbf\\xf4J\\xa2K{\\x1a\\xcd\\x8f \\x9d\"\\x07\\xae\\xe8\\x03Q\\xc1\\xb3\\x7f\\xcc\\x8f\\xfe\\xd7\\x0f\\xa1\\xfc\\x97?\\xd4a\\xed\\x8c\\xbf\\x91\\xe8=\\x06\\xdft\\xeb\\xfb?\\xf0\\xff\\x00\\xc1\\xa6+\\x96zA\\xa2\\x94\\xb5\\xc1\\xc3\\x986\\x9a2q{DN*I\\xa6zvA\\x8f\\x13D\\x0f\\x96\\xeb\\xd1\\xe3\\xd8\\xa7\\x14\\xcf\\r\\x9f\\x8c\\xe9\\xb5\\xa3\\xcf}\\xaa\\xe44F%\\x83\\x97:\\xed\\xddu\\xb1l\\xfd\\xd6sd\\x8e7\\x08\\xf1\\xcc\\x98r#\\x98\\x973\\x96\\xae\\xa3\\xd5[m\\n\\\\\\xa2:={,\\xcd#\\xc449\\x8e\\x06\\xd7>Pq\\xect\\xf6^\\xbe\\x85#[%6\\xb9Fw\\x8a8]\\x93\\xb0\\xb9\\x82\\x9d\\xf5\\xf5Xr1\\x14\\xf9]\\x9d\\xbc\\x1fTp\\xf6\\xcf\\xa3\\xc4\\xf8\\x9b,\\x91\\x84\\xb1\\xe0\\x82\\xde\\xeb\\x1dS\\x94%\\xe3#\\xa1\\x99D.\\xaf\\xca\\x06T\\x8a]\\x15\\xc9\\xe6\\x1ai\\xe9\\x82\\xe4\\x10\\x02Q\\x8f\\xff\\xd9'"
            ]
          },
          "metadata": {
            "tags": []
          },
          "execution_count": 37
        }
      ]
    },
    {
      "cell_type": "code",
      "metadata": {
        "id": "oa39tMyxZTJg",
        "colab_type": "code",
        "colab": {}
      },
      "source": [
        "with open('lena.jpg','rb') as rf:\n",
        "  with open('lena_copy.jpg','wb') as wf:\n",
        "    chunk_size=4096\n",
        "    rf_chunk=rf.read(chunk_size)\n",
        "    while len(rf_chunk)>0:\n",
        "      wf.write(rf_chunk)\n",
        "      rf_chunk=rf.read(chunk_size)"
      ],
      "execution_count": 0,
      "outputs": []
    },
    {
      "cell_type": "markdown",
      "metadata": {
        "id": "FVKPD1ZlyUYI",
        "colab_type": "text"
      },
      "source": [
        "##Exporting txt to csv file"
      ]
    },
    {
      "cell_type": "code",
      "metadata": {
        "id": "4OaAdZeQyYrf",
        "colab_type": "code",
        "colab": {}
      },
      "source": [
        "import csv"
      ],
      "execution_count": 0,
      "outputs": []
    },
    {
      "cell_type": "code",
      "metadata": {
        "id": "-JSIc1HJyumg",
        "colab_type": "code",
        "colab": {}
      },
      "source": [
        "with open('example.txt','r') as in_file:\n",
        "  stripped=(line.strip() for line in in_file)\n",
        "  lines=(line.split(\",\") for line in stripped if line)\n",
        "  with open('example.csv','w') as out_file:\n",
        "    writer=csv.writer(out_file)\n",
        "    "
      ],
      "execution_count": 0,
      "outputs": []
    },
    {
      "cell_type": "code",
      "metadata": {
        "id": "4J3h3h-A7usM",
        "colab_type": "code",
        "colab": {}
      },
      "source": [
        ""
      ],
      "execution_count": 0,
      "outputs": []
    },
    {
      "cell_type": "markdown",
      "metadata": {
        "id": "PhZxeUJpaj6k",
        "colab_type": "text"
      },
      "source": [
        "##WORKING WITH JSON FILE"
      ]
    },
    {
      "cell_type": "code",
      "metadata": {
        "id": "diyN-mZsZ-2i",
        "colab_type": "code",
        "colab": {}
      },
      "source": [
        "import json"
      ],
      "execution_count": 0,
      "outputs": []
    },
    {
      "cell_type": "code",
      "metadata": {
        "id": "iFs7Gj9gc_qo",
        "colab_type": "code",
        "colab": {}
      },
      "source": [
        "states_list='''{\n",
        "  \"states\": [\n",
        "    {\n",
        "      \"name\": \"Alabama\",\n",
        "      \"abbreviation\": \"AL\"\n",
        "    },\n",
        "    {\n",
        "      \"name\": \"Alaska\",\n",
        "      \"abbreviation\": \"AK\"\n",
        "    },\n",
        "    {\n",
        "      \"name\": \"Arizona\",\n",
        "      \"abbreviation\": \"AZ\"\n",
        "    },\n",
        "    {\n",
        "      \"name\": \"Arkansas\",\n",
        "      \"abbreviation\": \"AR\"\n",
        "    },\n",
        "    {\n",
        "      \"name\": \"California\",\n",
        "      \"abbreviation\": \"CA\"\n",
        "    },\n",
        "    {\n",
        "      \"name\": \"Colorado\",\n",
        "      \"abbreviation\": \"CO\"\n",
        "    },\n",
        "    {\n",
        "      \"name\": \"Connecticut\",\n",
        "      \"abbreviation\": \"CT\"\n",
        "    },\n",
        "    {\n",
        "      \"name\": \"Delaware\",\n",
        "      \"abbreviation\": \"DE\"\n",
        "    },\n",
        "    {\n",
        "      \"name\": \"Florida\",\n",
        "      \"abbreviation\": \"FL\"\n",
        "    },\n",
        "    {\n",
        "      \"name\": \"Georgia\",\n",
        "      \"abbreviation\": \"GA\"\n",
        "    },\n",
        "    {\n",
        "      \"name\": \"Hawaii\",\n",
        "      \"abbreviation\": \"HI\"\n",
        "    },\n",
        "    {\n",
        "      \"name\": \"Idaho\",\n",
        "      \"abbreviation\": \"ID\"\n",
        "    },\n",
        "    {\n",
        "      \"name\": \"Illinois\",\n",
        "      \"abbreviation\": \"IL\"\n",
        "    },\n",
        "    {\n",
        "      \"name\": \"Indiana\",\n",
        "      \"abbreviation\": \"IN\"\n",
        "    },\n",
        "    {\n",
        "      \"name\": \"Iowa\",\n",
        "      \"abbreviation\": \"IA\"\n",
        "    },\n",
        "    {\n",
        "      \"name\": \"Kansas\",\n",
        "      \"abbreviation\": \"KS\"\n",
        "    },\n",
        "    {\n",
        "      \"name\": \"Kentucky\",\n",
        "      \"abbreviation\": \"KY\"\n",
        "    },\n",
        "    {\n",
        "      \"name\": \"Louisiana\",\n",
        "      \"abbreviation\": \"LA\"\n",
        "    },\n",
        "    {\n",
        "      \"name\": \"Maine\",\n",
        "      \"abbreviation\": \"ME\"\n",
        "    },\n",
        "    {\n",
        "      \"name\": \"Maryland\",\n",
        "      \"abbreviation\": \"MD\"\n",
        "    },\n",
        "    {\n",
        "      \"name\": \"Massachusetts\",\n",
        "      \"abbreviation\": \"MA\"\n",
        "    },\n",
        "    {\n",
        "      \"name\": \"Michigan\",\n",
        "      \"abbreviation\": \"MI\"\n",
        "    },\n",
        "    {\n",
        "      \"name\": \"Minnesota\",\n",
        "      \"abbreviation\": \"MN\"\n",
        "    },\n",
        "    {\n",
        "      \"name\": \"Mississippi\",\n",
        "      \"abbreviation\": \"MS\"\n",
        "    },\n",
        "    {\n",
        "      \"name\": \"Missouri\",\n",
        "      \"abbreviation\": \"MO\"\n",
        "    },\n",
        "    {\n",
        "      \"name\": \"Montana\",\n",
        "      \"abbreviation\": \"MT\"\n",
        "    },\n",
        "    {\n",
        "      \"name\": \"Nebraska\",\n",
        "      \"abbreviation\": \"NE\"\n",
        "    },\n",
        "    {\n",
        "      \"name\": \"Nevada\",\n",
        "      \"abbreviation\": \"NV\"\n",
        "    },\n",
        "    {\n",
        "      \"name\": \"New Hampshire\",\n",
        "      \"abbreviation\": \"NH\"\n",
        "    },\n",
        "    {\n",
        "      \"name\": \"New Jersey\",\n",
        "      \"abbreviation\": \"NJ\"\n",
        "    },\n",
        "    {\n",
        "      \"name\": \"New Mexico\",\n",
        "      \"abbreviation\": \"NM\"\n",
        "    },\n",
        "    {\n",
        "      \"name\": \"New York\",\n",
        "      \"abbreviation\": \"NY\"\n",
        "    },\n",
        "    {\n",
        "      \"name\": \"North Carolina\",\n",
        "      \"abbreviation\": \"NC\"\n",
        "    },\n",
        "    {\n",
        "      \"name\": \"North Dakota\",\n",
        "      \"abbreviation\": \"ND\"\n",
        "    },\n",
        "    {\n",
        "      \"name\": \"Ohio\",\n",
        "      \"abbreviation\": \"OH\"\n",
        "    },\n",
        "    {\n",
        "      \"name\": \"Oklahoma\",\n",
        "      \"abbreviation\": \"OK\"\n",
        "    },\n",
        "    {\n",
        "      \"name\": \"Oregon\",\n",
        "      \"abbreviation\": \"OR\"\n",
        "    },\n",
        "    {\n",
        "      \"name\": \"Pennsylvania\",\n",
        "      \"abbreviation\": \"PA\"\n",
        "    },\n",
        "    {\n",
        "      \"name\": \"Rhode Island\",\n",
        "      \"abbreviation\": \"RI\"\n",
        "    },\n",
        "    {\n",
        "      \"name\": \"South Carolina\",\n",
        "      \"abbreviation\": \"SC\"\n",
        "    },\n",
        "    {\n",
        "      \"name\": \"South Dakota\",\n",
        "      \"abbreviation\": \"SD\"\n",
        "    },\n",
        "    {\n",
        "      \"name\": \"Tennessee\",\n",
        "      \"abbreviation\": \"TN\"\n",
        "    },\n",
        "    {\n",
        "      \"name\": \"Texas\",\n",
        "      \"abbreviation\": \"TX\"\n",
        "    },\n",
        "    {\n",
        "      \"name\": \"Utah\",\n",
        "      \"abbreviation\": \"UT\"\n",
        "    },\n",
        "    {\n",
        "      \"name\": \"Vermont\",\n",
        "      \"abbreviation\": \"VT\"\n",
        "    },\n",
        "    {\n",
        "      \"name\": \"Virginia\",\n",
        "      \"abbreviation\": \"VA\"\n",
        "    },\n",
        "    {\n",
        "      \"name\": \"Washington\",\n",
        "      \"abbreviation\": \"WA\"\n",
        "    },\n",
        "    {\n",
        "      \"name\": \"West Virginia\",\n",
        "      \"abbreviation\": \"WV\"\n",
        "    },\n",
        "    {\n",
        "      \"name\": \"Wisconsin\",\n",
        "      \"abbreviation\": \"WI\"\n",
        "    },\n",
        "    {\n",
        "      \"name\": \"Wyoming\",\n",
        "      \"abbreviation\": \"WY\"\n",
        "    }\n",
        "  ]\n",
        "}'''"
      ],
      "execution_count": 0,
      "outputs": []
    },
    {
      "cell_type": "code",
      "metadata": {
        "id": "ZH4C3D72dk4w",
        "colab_type": "code",
        "colab": {
          "base_uri": "https://localhost:8080/",
          "height": 54
        },
        "outputId": "436c1eb6-3d16-41f4-f07c-ba6324a185ac"
      },
      "source": [
        "data=json.loads(states_list)\n",
        "print(data)"
      ],
      "execution_count": 75,
      "outputs": [
        {
          "output_type": "stream",
          "text": [
            "{'states': [{'name': 'Alabama', 'abbreviation': 'AL'}, {'name': 'Alaska', 'abbreviation': 'AK'}, {'name': 'Arizona', 'abbreviation': 'AZ'}, {'name': 'Arkansas', 'abbreviation': 'AR'}, {'name': 'California', 'abbreviation': 'CA'}, {'name': 'Colorado', 'abbreviation': 'CO'}, {'name': 'Connecticut', 'abbreviation': 'CT'}, {'name': 'Delaware', 'abbreviation': 'DE'}, {'name': 'Florida', 'abbreviation': 'FL'}, {'name': 'Georgia', 'abbreviation': 'GA'}, {'name': 'Hawaii', 'abbreviation': 'HI'}, {'name': 'Idaho', 'abbreviation': 'ID'}, {'name': 'Illinois', 'abbreviation': 'IL'}, {'name': 'Indiana', 'abbreviation': 'IN'}, {'name': 'Iowa', 'abbreviation': 'IA'}, {'name': 'Kansas', 'abbreviation': 'KS'}, {'name': 'Kentucky', 'abbreviation': 'KY'}, {'name': 'Louisiana', 'abbreviation': 'LA'}, {'name': 'Maine', 'abbreviation': 'ME'}, {'name': 'Maryland', 'abbreviation': 'MD'}, {'name': 'Massachusetts', 'abbreviation': 'MA'}, {'name': 'Michigan', 'abbreviation': 'MI'}, {'name': 'Minnesota', 'abbreviation': 'MN'}, {'name': 'Mississippi', 'abbreviation': 'MS'}, {'name': 'Missouri', 'abbreviation': 'MO'}, {'name': 'Montana', 'abbreviation': 'MT'}, {'name': 'Nebraska', 'abbreviation': 'NE'}, {'name': 'Nevada', 'abbreviation': 'NV'}, {'name': 'New Hampshire', 'abbreviation': 'NH'}, {'name': 'New Jersey', 'abbreviation': 'NJ'}, {'name': 'New Mexico', 'abbreviation': 'NM'}, {'name': 'New York', 'abbreviation': 'NY'}, {'name': 'North Carolina', 'abbreviation': 'NC'}, {'name': 'North Dakota', 'abbreviation': 'ND'}, {'name': 'Ohio', 'abbreviation': 'OH'}, {'name': 'Oklahoma', 'abbreviation': 'OK'}, {'name': 'Oregon', 'abbreviation': 'OR'}, {'name': 'Pennsylvania', 'abbreviation': 'PA'}, {'name': 'Rhode Island', 'abbreviation': 'RI'}, {'name': 'South Carolina', 'abbreviation': 'SC'}, {'name': 'South Dakota', 'abbreviation': 'SD'}, {'name': 'Tennessee', 'abbreviation': 'TN'}, {'name': 'Texas', 'abbreviation': 'TX'}, {'name': 'Utah', 'abbreviation': 'UT'}, {'name': 'Vermont', 'abbreviation': 'VT'}, {'name': 'Virginia', 'abbreviation': 'VA'}, {'name': 'Washington', 'abbreviation': 'WA'}, {'name': 'West Virginia', 'abbreviation': 'WV'}, {'name': 'Wisconsin', 'abbreviation': 'WI'}, {'name': 'Wyoming', 'abbreviation': 'WY'}]}\n"
          ],
          "name": "stdout"
        }
      ]
    },
    {
      "cell_type": "code",
      "metadata": {
        "id": "R-s8aj8-dqsg",
        "colab_type": "code",
        "colab": {
          "base_uri": "https://localhost:8080/",
          "height": 34
        },
        "outputId": "7bec826e-f719-428c-aa05-8d47f3bc8c0b"
      },
      "source": [
        "print(type(data))"
      ],
      "execution_count": 76,
      "outputs": [
        {
          "output_type": "stream",
          "text": [
            "<class 'dict'>\n"
          ],
          "name": "stdout"
        }
      ]
    },
    {
      "cell_type": "code",
      "metadata": {
        "id": "wQh0YpdPduUP",
        "colab_type": "code",
        "colab": {
          "base_uri": "https://localhost:8080/",
          "height": 34
        },
        "outputId": "86e33dad-e986-4e5e-de36-48eacd0cb2b1"
      },
      "source": [
        "print(type(data['states']))"
      ],
      "execution_count": 77,
      "outputs": [
        {
          "output_type": "stream",
          "text": [
            "<class 'list'>\n"
          ],
          "name": "stdout"
        }
      ]
    },
    {
      "cell_type": "code",
      "metadata": {
        "id": "6Xt5lazYeSeo",
        "colab_type": "code",
        "colab": {
          "base_uri": "https://localhost:8080/",
          "height": 867
        },
        "outputId": "b6ed2cac-e597-4592-aefd-ba12e743f1a1"
      },
      "source": [
        "for states in data['states']:\n",
        "  print(states['name'])"
      ],
      "execution_count": 78,
      "outputs": [
        {
          "output_type": "stream",
          "text": [
            "Alabama\n",
            "Alaska\n",
            "Arizona\n",
            "Arkansas\n",
            "California\n",
            "Colorado\n",
            "Connecticut\n",
            "Delaware\n",
            "Florida\n",
            "Georgia\n",
            "Hawaii\n",
            "Idaho\n",
            "Illinois\n",
            "Indiana\n",
            "Iowa\n",
            "Kansas\n",
            "Kentucky\n",
            "Louisiana\n",
            "Maine\n",
            "Maryland\n",
            "Massachusetts\n",
            "Michigan\n",
            "Minnesota\n",
            "Mississippi\n",
            "Missouri\n",
            "Montana\n",
            "Nebraska\n",
            "Nevada\n",
            "New Hampshire\n",
            "New Jersey\n",
            "New Mexico\n",
            "New York\n",
            "North Carolina\n",
            "North Dakota\n",
            "Ohio\n",
            "Oklahoma\n",
            "Oregon\n",
            "Pennsylvania\n",
            "Rhode Island\n",
            "South Carolina\n",
            "South Dakota\n",
            "Tennessee\n",
            "Texas\n",
            "Utah\n",
            "Vermont\n",
            "Virginia\n",
            "Washington\n",
            "West Virginia\n",
            "Wisconsin\n",
            "Wyoming\n"
          ],
          "name": "stdout"
        }
      ]
    },
    {
      "cell_type": "markdown",
      "metadata": {
        "id": "FCfPymp4f47p",
        "colab_type": "text"
      },
      "source": [
        "##dump a python object into json string"
      ]
    },
    {
      "cell_type": "code",
      "metadata": {
        "id": "4xsI6TK1f8h0",
        "colab_type": "code",
        "colab": {
          "base_uri": "https://localhost:8080/",
          "height": 54
        },
        "outputId": "dd169205-a27a-42d5-b453-0018a723fae9"
      },
      "source": [
        "for states in data['states']:\n",
        "  del states['name']\n",
        "new_string=json.dumps(data)\n",
        "print(new_string)"
      ],
      "execution_count": 79,
      "outputs": [
        {
          "output_type": "stream",
          "text": [
            "{\"states\": [{\"abbreviation\": \"AL\"}, {\"abbreviation\": \"AK\"}, {\"abbreviation\": \"AZ\"}, {\"abbreviation\": \"AR\"}, {\"abbreviation\": \"CA\"}, {\"abbreviation\": \"CO\"}, {\"abbreviation\": \"CT\"}, {\"abbreviation\": \"DE\"}, {\"abbreviation\": \"FL\"}, {\"abbreviation\": \"GA\"}, {\"abbreviation\": \"HI\"}, {\"abbreviation\": \"ID\"}, {\"abbreviation\": \"IL\"}, {\"abbreviation\": \"IN\"}, {\"abbreviation\": \"IA\"}, {\"abbreviation\": \"KS\"}, {\"abbreviation\": \"KY\"}, {\"abbreviation\": \"LA\"}, {\"abbreviation\": \"ME\"}, {\"abbreviation\": \"MD\"}, {\"abbreviation\": \"MA\"}, {\"abbreviation\": \"MI\"}, {\"abbreviation\": \"MN\"}, {\"abbreviation\": \"MS\"}, {\"abbreviation\": \"MO\"}, {\"abbreviation\": \"MT\"}, {\"abbreviation\": \"NE\"}, {\"abbreviation\": \"NV\"}, {\"abbreviation\": \"NH\"}, {\"abbreviation\": \"NJ\"}, {\"abbreviation\": \"NM\"}, {\"abbreviation\": \"NY\"}, {\"abbreviation\": \"NC\"}, {\"abbreviation\": \"ND\"}, {\"abbreviation\": \"OH\"}, {\"abbreviation\": \"OK\"}, {\"abbreviation\": \"OR\"}, {\"abbreviation\": \"PA\"}, {\"abbreviation\": \"RI\"}, {\"abbreviation\": \"SC\"}, {\"abbreviation\": \"SD\"}, {\"abbreviation\": \"TN\"}, {\"abbreviation\": \"TX\"}, {\"abbreviation\": \"UT\"}, {\"abbreviation\": \"VT\"}, {\"abbreviation\": \"VA\"}, {\"abbreviation\": \"WA\"}, {\"abbreviation\": \"WV\"}, {\"abbreviation\": \"WI\"}, {\"abbreviation\": \"WY\"}]}\n"
          ],
          "name": "stdout"
        }
      ]
    },
    {
      "cell_type": "code",
      "metadata": {
        "id": "HC69feUGgYTf",
        "colab_type": "code",
        "colab": {}
      },
      "source": [
        "with open('example_2.json') as f:\n",
        "  data=json.load(f)"
      ],
      "execution_count": 0,
      "outputs": []
    },
    {
      "cell_type": "code",
      "metadata": {
        "id": "MWHY5GNCiaIF",
        "colab_type": "code",
        "colab": {
          "base_uri": "https://localhost:8080/",
          "height": 867
        },
        "outputId": "9071b368-9754-4610-8bd0-22c7cf35af63"
      },
      "source": [
        "for state in data['states']:\n",
        "  #print(state)\n",
        "  print(state['name'],state['abbreviation'])"
      ],
      "execution_count": 82,
      "outputs": [
        {
          "output_type": "stream",
          "text": [
            "Alabama AL\n",
            "Alaska AK\n",
            "Arizona AZ\n",
            "Arkansas AR\n",
            "California CA\n",
            "Colorado CO\n",
            "Connecticut CT\n",
            "Delaware DE\n",
            "Florida FL\n",
            "Georgia GA\n",
            "Hawaii HI\n",
            "Idaho ID\n",
            "Illinois IL\n",
            "Indiana IN\n",
            "Iowa IA\n",
            "Kansas KS\n",
            "Kentucky KY\n",
            "Louisiana LA\n",
            "Maine ME\n",
            "Maryland MD\n",
            "Massachusetts MA\n",
            "Michigan MI\n",
            "Minnesota MN\n",
            "Mississippi MS\n",
            "Missouri MO\n",
            "Montana MT\n",
            "Nebraska NE\n",
            "Nevada NV\n",
            "New Hampshire NH\n",
            "New Jersey NJ\n",
            "New Mexico NM\n",
            "New York NY\n",
            "North Carolina NC\n",
            "North Dakota ND\n",
            "Ohio OH\n",
            "Oklahoma OK\n",
            "Oregon OR\n",
            "Pennsylvania PA\n",
            "Rhode Island RI\n",
            "South Carolina SC\n",
            "South Dakota SD\n",
            "Tennessee TN\n",
            "Texas TX\n",
            "Utah UT\n",
            "Vermont VT\n",
            "Virginia VA\n",
            "Washington WA\n",
            "West Virginia WV\n",
            "Wisconsin WI\n",
            "Wyoming WY\n"
          ],
          "name": "stdout"
        }
      ]
    },
    {
      "cell_type": "markdown",
      "metadata": {
        "id": "JvedYFlmjPX4",
        "colab_type": "text"
      },
      "source": [
        "##Writing to a json file"
      ]
    },
    {
      "cell_type": "code",
      "metadata": {
        "id": "el_PZ3PFieWv",
        "colab_type": "code",
        "colab": {}
      },
      "source": [
        "for state in data['states']:\n",
        "  del state['area_codes']\n",
        "with open('new_states.json','w') as f:\n",
        "  json.dump(data,f)"
      ],
      "execution_count": 0,
      "outputs": []
    },
    {
      "cell_type": "markdown",
      "metadata": {
        "id": "AbHJarVUznwv",
        "colab_type": "text"
      },
      "source": [
        "##Exporting json to csv file"
      ]
    },
    {
      "cell_type": "code",
      "metadata": {
        "id": "qhFiFkoyi81v",
        "colab_type": "code",
        "colab": {}
      },
      "source": [
        "import csv\n",
        "import json\n",
        "import pandas as pd"
      ],
      "execution_count": 0,
      "outputs": []
    },
    {
      "cell_type": "code",
      "metadata": {
        "id": "c58FQshpzwNW",
        "colab_type": "code",
        "colab": {}
      },
      "source": [
        "infile=open('new_states.json','r')\n",
        "outfile=open('new_states_2.csv','w')\n",
        "writer=csv.writer(outfile)\n",
        "for row in json.loads(infile.read()):\n",
        "  writer.writerow(row)"
      ],
      "execution_count": 0,
      "outputs": []
    },
    {
      "cell_type": "code",
      "metadata": {
        "id": "oRQYK7L98Unv",
        "colab_type": "code",
        "colab": {}
      },
      "source": [
        "#using pandas\n",
        "import pandas as pd\n",
        "df=pd.read_json('new_states.json')\n",
        "df.to_csv('demo.csv',index=None)"
      ],
      "execution_count": 0,
      "outputs": []
    },
    {
      "cell_type": "code",
      "metadata": {
        "id": "kATDx-Bg8tDu",
        "colab_type": "code",
        "colab": {
          "base_uri": "https://localhost:8080/",
          "height": 204
        },
        "outputId": "5f1323ba-697e-4952-9314-d680bafa1382"
      },
      "source": [
        "demo=pd.read_csv('demo.csv')\n",
        "demo.head()"
      ],
      "execution_count": 109,
      "outputs": [
        {
          "output_type": "execute_result",
          "data": {
            "text/html": [
              "<div>\n",
              "<style scoped>\n",
              "    .dataframe tbody tr th:only-of-type {\n",
              "        vertical-align: middle;\n",
              "    }\n",
              "\n",
              "    .dataframe tbody tr th {\n",
              "        vertical-align: top;\n",
              "    }\n",
              "\n",
              "    .dataframe thead th {\n",
              "        text-align: right;\n",
              "    }\n",
              "</style>\n",
              "<table border=\"1\" class=\"dataframe\">\n",
              "  <thead>\n",
              "    <tr style=\"text-align: right;\">\n",
              "      <th></th>\n",
              "      <th>states</th>\n",
              "    </tr>\n",
              "  </thead>\n",
              "  <tbody>\n",
              "    <tr>\n",
              "      <th>0</th>\n",
              "      <td>{'name': 'Alabama', 'abbreviation': 'AL'}</td>\n",
              "    </tr>\n",
              "    <tr>\n",
              "      <th>1</th>\n",
              "      <td>{'name': 'Alaska', 'abbreviation': 'AK'}</td>\n",
              "    </tr>\n",
              "    <tr>\n",
              "      <th>2</th>\n",
              "      <td>{'name': 'Arizona', 'abbreviation': 'AZ'}</td>\n",
              "    </tr>\n",
              "    <tr>\n",
              "      <th>3</th>\n",
              "      <td>{'name': 'Arkansas', 'abbreviation': 'AR'}</td>\n",
              "    </tr>\n",
              "    <tr>\n",
              "      <th>4</th>\n",
              "      <td>{'name': 'California', 'abbreviation': 'CA'}</td>\n",
              "    </tr>\n",
              "  </tbody>\n",
              "</table>\n",
              "</div>"
            ],
            "text/plain": [
              "                                         states\n",
              "0     {'name': 'Alabama', 'abbreviation': 'AL'}\n",
              "1      {'name': 'Alaska', 'abbreviation': 'AK'}\n",
              "2     {'name': 'Arizona', 'abbreviation': 'AZ'}\n",
              "3    {'name': 'Arkansas', 'abbreviation': 'AR'}\n",
              "4  {'name': 'California', 'abbreviation': 'CA'}"
            ]
          },
          "metadata": {
            "tags": []
          },
          "execution_count": 109
        }
      ]
    },
    {
      "cell_type": "markdown",
      "metadata": {
        "id": "K_qqTsDo0bw_",
        "colab_type": "text"
      },
      "source": [
        "##Working with CSV file"
      ]
    },
    {
      "cell_type": "code",
      "metadata": {
        "id": "oElseb400N1R",
        "colab_type": "code",
        "colab": {
          "base_uri": "https://localhost:8080/",
          "height": 453
        },
        "outputId": "528b2048-bdee-4c4c-8d22-94b005644357"
      },
      "source": [
        "import pandas as pd\n",
        "raw_csv_data=pd.read_csv('/content/original (1).csv')\n",
        "raw_csv_data"
      ],
      "execution_count": 93,
      "outputs": [
        {
          "output_type": "execute_result",
          "data": {
            "text/html": [
              "<div>\n",
              "<style scoped>\n",
              "    .dataframe tbody tr th:only-of-type {\n",
              "        vertical-align: middle;\n",
              "    }\n",
              "\n",
              "    .dataframe tbody tr th {\n",
              "        vertical-align: top;\n",
              "    }\n",
              "\n",
              "    .dataframe thead th {\n",
              "        text-align: right;\n",
              "    }\n",
              "</style>\n",
              "<table border=\"1\" class=\"dataframe\">\n",
              "  <thead>\n",
              "    <tr style=\"text-align: right;\">\n",
              "      <th></th>\n",
              "      <th>ID</th>\n",
              "      <th>Reason for Absence</th>\n",
              "      <th>Date</th>\n",
              "      <th>Transportation Expense</th>\n",
              "      <th>Distance to Work</th>\n",
              "      <th>Age</th>\n",
              "      <th>Daily Work Load Average</th>\n",
              "      <th>Body Mass Index</th>\n",
              "      <th>Education</th>\n",
              "      <th>Children</th>\n",
              "      <th>Pets</th>\n",
              "      <th>Absenteeism Time in Hours</th>\n",
              "    </tr>\n",
              "  </thead>\n",
              "  <tbody>\n",
              "    <tr>\n",
              "      <th>0</th>\n",
              "      <td>11</td>\n",
              "      <td>26</td>\n",
              "      <td>07/07/2015</td>\n",
              "      <td>289</td>\n",
              "      <td>36</td>\n",
              "      <td>33</td>\n",
              "      <td>239.554</td>\n",
              "      <td>30</td>\n",
              "      <td>1</td>\n",
              "      <td>2</td>\n",
              "      <td>1</td>\n",
              "      <td>4</td>\n",
              "    </tr>\n",
              "    <tr>\n",
              "      <th>1</th>\n",
              "      <td>36</td>\n",
              "      <td>0</td>\n",
              "      <td>14/07/2015</td>\n",
              "      <td>118</td>\n",
              "      <td>13</td>\n",
              "      <td>50</td>\n",
              "      <td>239.554</td>\n",
              "      <td>31</td>\n",
              "      <td>1</td>\n",
              "      <td>1</td>\n",
              "      <td>0</td>\n",
              "      <td>0</td>\n",
              "    </tr>\n",
              "    <tr>\n",
              "      <th>2</th>\n",
              "      <td>3</td>\n",
              "      <td>23</td>\n",
              "      <td>15/07/2015</td>\n",
              "      <td>179</td>\n",
              "      <td>51</td>\n",
              "      <td>38</td>\n",
              "      <td>239.554</td>\n",
              "      <td>31</td>\n",
              "      <td>1</td>\n",
              "      <td>0</td>\n",
              "      <td>0</td>\n",
              "      <td>2</td>\n",
              "    </tr>\n",
              "    <tr>\n",
              "      <th>3</th>\n",
              "      <td>7</td>\n",
              "      <td>7</td>\n",
              "      <td>16/07/2015</td>\n",
              "      <td>279</td>\n",
              "      <td>5</td>\n",
              "      <td>39</td>\n",
              "      <td>239.554</td>\n",
              "      <td>24</td>\n",
              "      <td>1</td>\n",
              "      <td>2</td>\n",
              "      <td>0</td>\n",
              "      <td>4</td>\n",
              "    </tr>\n",
              "    <tr>\n",
              "      <th>4</th>\n",
              "      <td>11</td>\n",
              "      <td>23</td>\n",
              "      <td>23/07/2015</td>\n",
              "      <td>289</td>\n",
              "      <td>36</td>\n",
              "      <td>33</td>\n",
              "      <td>239.554</td>\n",
              "      <td>30</td>\n",
              "      <td>1</td>\n",
              "      <td>2</td>\n",
              "      <td>1</td>\n",
              "      <td>2</td>\n",
              "    </tr>\n",
              "    <tr>\n",
              "      <th>...</th>\n",
              "      <td>...</td>\n",
              "      <td>...</td>\n",
              "      <td>...</td>\n",
              "      <td>...</td>\n",
              "      <td>...</td>\n",
              "      <td>...</td>\n",
              "      <td>...</td>\n",
              "      <td>...</td>\n",
              "      <td>...</td>\n",
              "      <td>...</td>\n",
              "      <td>...</td>\n",
              "      <td>...</td>\n",
              "    </tr>\n",
              "    <tr>\n",
              "      <th>695</th>\n",
              "      <td>17</td>\n",
              "      <td>10</td>\n",
              "      <td>23/05/2018</td>\n",
              "      <td>179</td>\n",
              "      <td>22</td>\n",
              "      <td>40</td>\n",
              "      <td>237.656</td>\n",
              "      <td>22</td>\n",
              "      <td>2</td>\n",
              "      <td>2</td>\n",
              "      <td>0</td>\n",
              "      <td>8</td>\n",
              "    </tr>\n",
              "    <tr>\n",
              "      <th>696</th>\n",
              "      <td>28</td>\n",
              "      <td>6</td>\n",
              "      <td>23/05/2018</td>\n",
              "      <td>225</td>\n",
              "      <td>26</td>\n",
              "      <td>28</td>\n",
              "      <td>237.656</td>\n",
              "      <td>24</td>\n",
              "      <td>1</td>\n",
              "      <td>1</td>\n",
              "      <td>2</td>\n",
              "      <td>3</td>\n",
              "    </tr>\n",
              "    <tr>\n",
              "      <th>697</th>\n",
              "      <td>18</td>\n",
              "      <td>10</td>\n",
              "      <td>24/05/2018</td>\n",
              "      <td>330</td>\n",
              "      <td>16</td>\n",
              "      <td>28</td>\n",
              "      <td>237.656</td>\n",
              "      <td>25</td>\n",
              "      <td>2</td>\n",
              "      <td>0</td>\n",
              "      <td>0</td>\n",
              "      <td>8</td>\n",
              "    </tr>\n",
              "    <tr>\n",
              "      <th>698</th>\n",
              "      <td>25</td>\n",
              "      <td>23</td>\n",
              "      <td>24/05/2018</td>\n",
              "      <td>235</td>\n",
              "      <td>16</td>\n",
              "      <td>32</td>\n",
              "      <td>237.656</td>\n",
              "      <td>25</td>\n",
              "      <td>3</td>\n",
              "      <td>0</td>\n",
              "      <td>0</td>\n",
              "      <td>2</td>\n",
              "    </tr>\n",
              "    <tr>\n",
              "      <th>699</th>\n",
              "      <td>15</td>\n",
              "      <td>28</td>\n",
              "      <td>31/05/2018</td>\n",
              "      <td>291</td>\n",
              "      <td>31</td>\n",
              "      <td>40</td>\n",
              "      <td>237.656</td>\n",
              "      <td>25</td>\n",
              "      <td>1</td>\n",
              "      <td>1</td>\n",
              "      <td>1</td>\n",
              "      <td>2</td>\n",
              "    </tr>\n",
              "  </tbody>\n",
              "</table>\n",
              "<p>700 rows × 12 columns</p>\n",
              "</div>"
            ],
            "text/plain": [
              "     ID  Reason for Absence  ... Pets  Absenteeism Time in Hours\n",
              "0    11                  26  ...    1                          4\n",
              "1    36                   0  ...    0                          0\n",
              "2     3                  23  ...    0                          2\n",
              "3     7                   7  ...    0                          4\n",
              "4    11                  23  ...    1                          2\n",
              "..   ..                 ...  ...  ...                        ...\n",
              "695  17                  10  ...    0                          8\n",
              "696  28                   6  ...    2                          3\n",
              "697  18                  10  ...    0                          8\n",
              "698  25                  23  ...    0                          2\n",
              "699  15                  28  ...    1                          2\n",
              "\n",
              "[700 rows x 12 columns]"
            ]
          },
          "metadata": {
            "tags": []
          },
          "execution_count": 93
        }
      ]
    },
    {
      "cell_type": "code",
      "metadata": {
        "id": "W5vlK0lk1vcu",
        "colab_type": "code",
        "colab": {}
      },
      "source": [
        "df=raw_csv_data.copy()"
      ],
      "execution_count": 0,
      "outputs": []
    },
    {
      "cell_type": "code",
      "metadata": {
        "id": "s3XM26Lt4Ioi",
        "colab_type": "code",
        "colab": {
          "base_uri": "https://localhost:8080/",
          "height": 238
        },
        "outputId": "d2197d72-2fa8-4801-fb80-ea6eddfa7734"
      },
      "source": [
        "df.head()"
      ],
      "execution_count": 99,
      "outputs": [
        {
          "output_type": "execute_result",
          "data": {
            "text/html": [
              "<div>\n",
              "<style scoped>\n",
              "    .dataframe tbody tr th:only-of-type {\n",
              "        vertical-align: middle;\n",
              "    }\n",
              "\n",
              "    .dataframe tbody tr th {\n",
              "        vertical-align: top;\n",
              "    }\n",
              "\n",
              "    .dataframe thead th {\n",
              "        text-align: right;\n",
              "    }\n",
              "</style>\n",
              "<table border=\"1\" class=\"dataframe\">\n",
              "  <thead>\n",
              "    <tr style=\"text-align: right;\">\n",
              "      <th></th>\n",
              "      <th>ID</th>\n",
              "      <th>Reason for Absence</th>\n",
              "      <th>Date</th>\n",
              "      <th>Transportation Expense</th>\n",
              "      <th>Distance to Work</th>\n",
              "      <th>Age</th>\n",
              "      <th>Daily Work Load Average</th>\n",
              "      <th>Body Mass Index</th>\n",
              "      <th>Education</th>\n",
              "      <th>Children</th>\n",
              "      <th>Pets</th>\n",
              "      <th>Absenteeism Time in Hours</th>\n",
              "    </tr>\n",
              "  </thead>\n",
              "  <tbody>\n",
              "    <tr>\n",
              "      <th>0</th>\n",
              "      <td>11</td>\n",
              "      <td>26</td>\n",
              "      <td>07/07/2015</td>\n",
              "      <td>289</td>\n",
              "      <td>36</td>\n",
              "      <td>33</td>\n",
              "      <td>239.554</td>\n",
              "      <td>30</td>\n",
              "      <td>1</td>\n",
              "      <td>2</td>\n",
              "      <td>1</td>\n",
              "      <td>4</td>\n",
              "    </tr>\n",
              "    <tr>\n",
              "      <th>1</th>\n",
              "      <td>36</td>\n",
              "      <td>0</td>\n",
              "      <td>14/07/2015</td>\n",
              "      <td>118</td>\n",
              "      <td>13</td>\n",
              "      <td>50</td>\n",
              "      <td>239.554</td>\n",
              "      <td>31</td>\n",
              "      <td>1</td>\n",
              "      <td>1</td>\n",
              "      <td>0</td>\n",
              "      <td>0</td>\n",
              "    </tr>\n",
              "    <tr>\n",
              "      <th>2</th>\n",
              "      <td>3</td>\n",
              "      <td>23</td>\n",
              "      <td>15/07/2015</td>\n",
              "      <td>179</td>\n",
              "      <td>51</td>\n",
              "      <td>38</td>\n",
              "      <td>239.554</td>\n",
              "      <td>31</td>\n",
              "      <td>1</td>\n",
              "      <td>0</td>\n",
              "      <td>0</td>\n",
              "      <td>2</td>\n",
              "    </tr>\n",
              "    <tr>\n",
              "      <th>3</th>\n",
              "      <td>7</td>\n",
              "      <td>7</td>\n",
              "      <td>16/07/2015</td>\n",
              "      <td>279</td>\n",
              "      <td>5</td>\n",
              "      <td>39</td>\n",
              "      <td>239.554</td>\n",
              "      <td>24</td>\n",
              "      <td>1</td>\n",
              "      <td>2</td>\n",
              "      <td>0</td>\n",
              "      <td>4</td>\n",
              "    </tr>\n",
              "    <tr>\n",
              "      <th>4</th>\n",
              "      <td>11</td>\n",
              "      <td>23</td>\n",
              "      <td>23/07/2015</td>\n",
              "      <td>289</td>\n",
              "      <td>36</td>\n",
              "      <td>33</td>\n",
              "      <td>239.554</td>\n",
              "      <td>30</td>\n",
              "      <td>1</td>\n",
              "      <td>2</td>\n",
              "      <td>1</td>\n",
              "      <td>2</td>\n",
              "    </tr>\n",
              "  </tbody>\n",
              "</table>\n",
              "</div>"
            ],
            "text/plain": [
              "   ID  Reason for Absence  ... Pets  Absenteeism Time in Hours\n",
              "0  11                  26  ...    1                          4\n",
              "1  36                   0  ...    0                          0\n",
              "2   3                  23  ...    0                          2\n",
              "3   7                   7  ...    0                          4\n",
              "4  11                  23  ...    1                          2\n",
              "\n",
              "[5 rows x 12 columns]"
            ]
          },
          "metadata": {
            "tags": []
          },
          "execution_count": 99
        }
      ]
    },
    {
      "cell_type": "code",
      "metadata": {
        "id": "8RCagqIq12kJ",
        "colab_type": "code",
        "colab": {
          "base_uri": "https://localhost:8080/",
          "height": 340
        },
        "outputId": "66943370-d6e9-45d8-ff4f-eb02a7c3500a"
      },
      "source": [
        "df.info()"
      ],
      "execution_count": 95,
      "outputs": [
        {
          "output_type": "stream",
          "text": [
            "<class 'pandas.core.frame.DataFrame'>\n",
            "RangeIndex: 700 entries, 0 to 699\n",
            "Data columns (total 12 columns):\n",
            " #   Column                     Non-Null Count  Dtype  \n",
            "---  ------                     --------------  -----  \n",
            " 0   ID                         700 non-null    int64  \n",
            " 1   Reason for Absence         700 non-null    int64  \n",
            " 2   Date                       700 non-null    object \n",
            " 3   Transportation Expense     700 non-null    int64  \n",
            " 4   Distance to Work           700 non-null    int64  \n",
            " 5   Age                        700 non-null    int64  \n",
            " 6   Daily Work Load Average    700 non-null    float64\n",
            " 7   Body Mass Index            700 non-null    int64  \n",
            " 8   Education                  700 non-null    int64  \n",
            " 9   Children                   700 non-null    int64  \n",
            " 10  Pets                       700 non-null    int64  \n",
            " 11  Absenteeism Time in Hours  700 non-null    int64  \n",
            "dtypes: float64(1), int64(10), object(1)\n",
            "memory usage: 65.8+ KB\n"
          ],
          "name": "stdout"
        }
      ]
    },
    {
      "cell_type": "code",
      "metadata": {
        "id": "s0hdp7GU16qv",
        "colab_type": "code",
        "colab": {
          "base_uri": "https://localhost:8080/",
          "height": 34
        },
        "outputId": "eb375e64-03e2-4d6a-eab2-02ffcbac41d5"
      },
      "source": [
        "df.shape"
      ],
      "execution_count": 96,
      "outputs": [
        {
          "output_type": "execute_result",
          "data": {
            "text/plain": [
              "(700, 12)"
            ]
          },
          "metadata": {
            "tags": []
          },
          "execution_count": 96
        }
      ]
    },
    {
      "cell_type": "code",
      "metadata": {
        "id": "ReVDqyAP2PLH",
        "colab_type": "code",
        "colab": {
          "base_uri": "https://localhost:8080/",
          "height": 85
        },
        "outputId": "8fa990fa-0372-4c48-fc5e-6769bf15f45c"
      },
      "source": [
        "df.columns"
      ],
      "execution_count": 97,
      "outputs": [
        {
          "output_type": "execute_result",
          "data": {
            "text/plain": [
              "Index(['ID', 'Reason for Absence', 'Date', 'Transportation Expense',\n",
              "       'Distance to Work', 'Age', 'Daily Work Load Average', 'Body Mass Index',\n",
              "       'Education', 'Children', 'Pets', 'Absenteeism Time in Hours'],\n",
              "      dtype='object')"
            ]
          },
          "metadata": {
            "tags": []
          },
          "execution_count": 97
        }
      ]
    },
    {
      "cell_type": "code",
      "metadata": {
        "id": "52rDh_Zd2SK2",
        "colab_type": "code",
        "colab": {
          "base_uri": "https://localhost:8080/",
          "height": 238
        },
        "outputId": "536f2bf4-fee7-4e41-83d3-5e0266993542"
      },
      "source": [
        "df.isnull().sum()"
      ],
      "execution_count": 98,
      "outputs": [
        {
          "output_type": "execute_result",
          "data": {
            "text/plain": [
              "ID                           0\n",
              "Reason for Absence           0\n",
              "Date                         0\n",
              "Transportation Expense       0\n",
              "Distance to Work             0\n",
              "Age                          0\n",
              "Daily Work Load Average      0\n",
              "Body Mass Index              0\n",
              "Education                    0\n",
              "Children                     0\n",
              "Pets                         0\n",
              "Absenteeism Time in Hours    0\n",
              "dtype: int64"
            ]
          },
          "metadata": {
            "tags": []
          },
          "execution_count": 98
        }
      ]
    },
    {
      "cell_type": "markdown",
      "metadata": {
        "id": "v7ZS9hH7439i",
        "colab_type": "text"
      },
      "source": [
        "##Exporting csv to json using pandas"
      ]
    },
    {
      "cell_type": "code",
      "metadata": {
        "id": "kuPkZGLr47dc",
        "colab_type": "code",
        "colab": {}
      },
      "source": [
        "import pandas as pd\n",
        "df=pd.read_csv('/content/original (1).csv')\n",
        "df.to_json('new_original_jsonfile.json')"
      ],
      "execution_count": 0,
      "outputs": []
    },
    {
      "cell_type": "code",
      "metadata": {
        "id": "rzRzGZI_5PEs",
        "colab_type": "code",
        "colab": {
          "base_uri": "https://localhost:8080/",
          "height": 623
        },
        "outputId": "fb7b786c-3299-4bb9-ea9a-8dd003e129d4"
      },
      "source": [
        "pd.read_json('new_original_jsonfile.json')"
      ],
      "execution_count": 101,
      "outputs": [
        {
          "output_type": "execute_result",
          "data": {
            "text/html": [
              "<div>\n",
              "<style scoped>\n",
              "    .dataframe tbody tr th:only-of-type {\n",
              "        vertical-align: middle;\n",
              "    }\n",
              "\n",
              "    .dataframe tbody tr th {\n",
              "        vertical-align: top;\n",
              "    }\n",
              "\n",
              "    .dataframe thead th {\n",
              "        text-align: right;\n",
              "    }\n",
              "</style>\n",
              "<table border=\"1\" class=\"dataframe\">\n",
              "  <thead>\n",
              "    <tr style=\"text-align: right;\">\n",
              "      <th></th>\n",
              "      <th>ID</th>\n",
              "      <th>Reason for Absence</th>\n",
              "      <th>Date</th>\n",
              "      <th>Transportation Expense</th>\n",
              "      <th>Distance to Work</th>\n",
              "      <th>Age</th>\n",
              "      <th>Daily Work Load Average</th>\n",
              "      <th>Body Mass Index</th>\n",
              "      <th>Education</th>\n",
              "      <th>Children</th>\n",
              "      <th>Pets</th>\n",
              "      <th>Absenteeism Time in Hours</th>\n",
              "    </tr>\n",
              "  </thead>\n",
              "  <tbody>\n",
              "    <tr>\n",
              "      <th>0</th>\n",
              "      <td>11</td>\n",
              "      <td>26</td>\n",
              "      <td>2015-07-07</td>\n",
              "      <td>289</td>\n",
              "      <td>36</td>\n",
              "      <td>33</td>\n",
              "      <td>239.554</td>\n",
              "      <td>30</td>\n",
              "      <td>1</td>\n",
              "      <td>2</td>\n",
              "      <td>1</td>\n",
              "      <td>4</td>\n",
              "    </tr>\n",
              "    <tr>\n",
              "      <th>1</th>\n",
              "      <td>36</td>\n",
              "      <td>0</td>\n",
              "      <td>2015-07-14</td>\n",
              "      <td>118</td>\n",
              "      <td>13</td>\n",
              "      <td>50</td>\n",
              "      <td>239.554</td>\n",
              "      <td>31</td>\n",
              "      <td>1</td>\n",
              "      <td>1</td>\n",
              "      <td>0</td>\n",
              "      <td>0</td>\n",
              "    </tr>\n",
              "    <tr>\n",
              "      <th>2</th>\n",
              "      <td>3</td>\n",
              "      <td>23</td>\n",
              "      <td>2015-07-15</td>\n",
              "      <td>179</td>\n",
              "      <td>51</td>\n",
              "      <td>38</td>\n",
              "      <td>239.554</td>\n",
              "      <td>31</td>\n",
              "      <td>1</td>\n",
              "      <td>0</td>\n",
              "      <td>0</td>\n",
              "      <td>2</td>\n",
              "    </tr>\n",
              "    <tr>\n",
              "      <th>3</th>\n",
              "      <td>7</td>\n",
              "      <td>7</td>\n",
              "      <td>2015-07-16</td>\n",
              "      <td>279</td>\n",
              "      <td>5</td>\n",
              "      <td>39</td>\n",
              "      <td>239.554</td>\n",
              "      <td>24</td>\n",
              "      <td>1</td>\n",
              "      <td>2</td>\n",
              "      <td>0</td>\n",
              "      <td>4</td>\n",
              "    </tr>\n",
              "    <tr>\n",
              "      <th>4</th>\n",
              "      <td>11</td>\n",
              "      <td>23</td>\n",
              "      <td>2015-07-23</td>\n",
              "      <td>289</td>\n",
              "      <td>36</td>\n",
              "      <td>33</td>\n",
              "      <td>239.554</td>\n",
              "      <td>30</td>\n",
              "      <td>1</td>\n",
              "      <td>2</td>\n",
              "      <td>1</td>\n",
              "      <td>2</td>\n",
              "    </tr>\n",
              "    <tr>\n",
              "      <th>...</th>\n",
              "      <td>...</td>\n",
              "      <td>...</td>\n",
              "      <td>...</td>\n",
              "      <td>...</td>\n",
              "      <td>...</td>\n",
              "      <td>...</td>\n",
              "      <td>...</td>\n",
              "      <td>...</td>\n",
              "      <td>...</td>\n",
              "      <td>...</td>\n",
              "      <td>...</td>\n",
              "      <td>...</td>\n",
              "    </tr>\n",
              "    <tr>\n",
              "      <th>695</th>\n",
              "      <td>17</td>\n",
              "      <td>10</td>\n",
              "      <td>2018-05-23</td>\n",
              "      <td>179</td>\n",
              "      <td>22</td>\n",
              "      <td>40</td>\n",
              "      <td>237.656</td>\n",
              "      <td>22</td>\n",
              "      <td>2</td>\n",
              "      <td>2</td>\n",
              "      <td>0</td>\n",
              "      <td>8</td>\n",
              "    </tr>\n",
              "    <tr>\n",
              "      <th>696</th>\n",
              "      <td>28</td>\n",
              "      <td>6</td>\n",
              "      <td>2018-05-23</td>\n",
              "      <td>225</td>\n",
              "      <td>26</td>\n",
              "      <td>28</td>\n",
              "      <td>237.656</td>\n",
              "      <td>24</td>\n",
              "      <td>1</td>\n",
              "      <td>1</td>\n",
              "      <td>2</td>\n",
              "      <td>3</td>\n",
              "    </tr>\n",
              "    <tr>\n",
              "      <th>697</th>\n",
              "      <td>18</td>\n",
              "      <td>10</td>\n",
              "      <td>2018-05-24</td>\n",
              "      <td>330</td>\n",
              "      <td>16</td>\n",
              "      <td>28</td>\n",
              "      <td>237.656</td>\n",
              "      <td>25</td>\n",
              "      <td>2</td>\n",
              "      <td>0</td>\n",
              "      <td>0</td>\n",
              "      <td>8</td>\n",
              "    </tr>\n",
              "    <tr>\n",
              "      <th>698</th>\n",
              "      <td>25</td>\n",
              "      <td>23</td>\n",
              "      <td>2018-05-24</td>\n",
              "      <td>235</td>\n",
              "      <td>16</td>\n",
              "      <td>32</td>\n",
              "      <td>237.656</td>\n",
              "      <td>25</td>\n",
              "      <td>3</td>\n",
              "      <td>0</td>\n",
              "      <td>0</td>\n",
              "      <td>2</td>\n",
              "    </tr>\n",
              "    <tr>\n",
              "      <th>699</th>\n",
              "      <td>15</td>\n",
              "      <td>28</td>\n",
              "      <td>2018-05-31</td>\n",
              "      <td>291</td>\n",
              "      <td>31</td>\n",
              "      <td>40</td>\n",
              "      <td>237.656</td>\n",
              "      <td>25</td>\n",
              "      <td>1</td>\n",
              "      <td>1</td>\n",
              "      <td>1</td>\n",
              "      <td>2</td>\n",
              "    </tr>\n",
              "  </tbody>\n",
              "</table>\n",
              "<p>700 rows × 12 columns</p>\n",
              "</div>"
            ],
            "text/plain": [
              "     ID  Reason for Absence  ... Pets  Absenteeism Time in Hours\n",
              "0    11                  26  ...    1                          4\n",
              "1    36                   0  ...    0                          0\n",
              "2     3                  23  ...    0                          2\n",
              "3     7                   7  ...    0                          4\n",
              "4    11                  23  ...    1                          2\n",
              "..   ..                 ...  ...  ...                        ...\n",
              "695  17                  10  ...    0                          8\n",
              "696  28                   6  ...    2                          3\n",
              "697  18                  10  ...    0                          8\n",
              "698  25                  23  ...    0                          2\n",
              "699  15                  28  ...    1                          2\n",
              "\n",
              "[700 rows x 12 columns]"
            ]
          },
          "metadata": {
            "tags": []
          },
          "execution_count": 101
        }
      ]
    },
    {
      "cell_type": "markdown",
      "metadata": {
        "id": "VkZoCV9k-5yz",
        "colab_type": "text"
      },
      "source": [
        "##Importing xlsx file"
      ]
    },
    {
      "cell_type": "code",
      "metadata": {
        "id": "AuI2P09f-8uo",
        "colab_type": "code",
        "colab": {}
      },
      "source": [
        "import pandas as pd\n",
        "\n",
        "file=pd.ExcelFile('/content/file_example_XLSX_50.xlsx')"
      ],
      "execution_count": 0,
      "outputs": []
    },
    {
      "cell_type": "code",
      "metadata": {
        "id": "il6KPaNU_9GQ",
        "colab_type": "code",
        "colab": {
          "base_uri": "https://localhost:8080/",
          "height": 34
        },
        "outputId": "b887df4a-e0d2-4781-ea72-7de60f8baf9a"
      },
      "source": [
        "type(file)"
      ],
      "execution_count": 111,
      "outputs": [
        {
          "output_type": "execute_result",
          "data": {
            "text/plain": [
              "pandas.io.excel._base.ExcelFile"
            ]
          },
          "metadata": {
            "tags": []
          },
          "execution_count": 111
        }
      ]
    },
    {
      "cell_type": "code",
      "metadata": {
        "id": "tB3JouLFABfZ",
        "colab_type": "code",
        "colab": {
          "base_uri": "https://localhost:8080/",
          "height": 34
        },
        "outputId": "14e6c1c1-0b79-4487-8993-dea0fd4fc6fe"
      },
      "source": [
        "file.sheet_names"
      ],
      "execution_count": 112,
      "outputs": [
        {
          "output_type": "execute_result",
          "data": {
            "text/plain": [
              "['Sheet1']"
            ]
          },
          "metadata": {
            "tags": []
          },
          "execution_count": 112
        }
      ]
    },
    {
      "cell_type": "code",
      "metadata": {
        "id": "uHudSp3gAIN_",
        "colab_type": "code",
        "colab": {}
      },
      "source": [
        "df1=file.parse('Sheet1')"
      ],
      "execution_count": 0,
      "outputs": []
    },
    {
      "cell_type": "code",
      "metadata": {
        "id": "WyivJCBRASYZ",
        "colab_type": "code",
        "colab": {
          "base_uri": "https://localhost:8080/",
          "height": 204
        },
        "outputId": "98a908e9-4f7f-494e-cbba-4e0e3ee7761a"
      },
      "source": [
        "df1.head()"
      ],
      "execution_count": 115,
      "outputs": [
        {
          "output_type": "execute_result",
          "data": {
            "text/html": [
              "<div>\n",
              "<style scoped>\n",
              "    .dataframe tbody tr th:only-of-type {\n",
              "        vertical-align: middle;\n",
              "    }\n",
              "\n",
              "    .dataframe tbody tr th {\n",
              "        vertical-align: top;\n",
              "    }\n",
              "\n",
              "    .dataframe thead th {\n",
              "        text-align: right;\n",
              "    }\n",
              "</style>\n",
              "<table border=\"1\" class=\"dataframe\">\n",
              "  <thead>\n",
              "    <tr style=\"text-align: right;\">\n",
              "      <th></th>\n",
              "      <th>0</th>\n",
              "      <th>First Name</th>\n",
              "      <th>Last Name</th>\n",
              "      <th>Gender</th>\n",
              "      <th>Country</th>\n",
              "      <th>Age</th>\n",
              "      <th>Date</th>\n",
              "      <th>Id</th>\n",
              "    </tr>\n",
              "  </thead>\n",
              "  <tbody>\n",
              "    <tr>\n",
              "      <th>0</th>\n",
              "      <td>1</td>\n",
              "      <td>Dulce</td>\n",
              "      <td>Abril</td>\n",
              "      <td>Female</td>\n",
              "      <td>United States</td>\n",
              "      <td>32</td>\n",
              "      <td>15/10/2017</td>\n",
              "      <td>1562</td>\n",
              "    </tr>\n",
              "    <tr>\n",
              "      <th>1</th>\n",
              "      <td>2</td>\n",
              "      <td>Mara</td>\n",
              "      <td>Hashimoto</td>\n",
              "      <td>Female</td>\n",
              "      <td>Great Britain</td>\n",
              "      <td>25</td>\n",
              "      <td>16/08/2016</td>\n",
              "      <td>1582</td>\n",
              "    </tr>\n",
              "    <tr>\n",
              "      <th>2</th>\n",
              "      <td>3</td>\n",
              "      <td>Philip</td>\n",
              "      <td>Gent</td>\n",
              "      <td>Male</td>\n",
              "      <td>France</td>\n",
              "      <td>36</td>\n",
              "      <td>21/05/2015</td>\n",
              "      <td>2587</td>\n",
              "    </tr>\n",
              "    <tr>\n",
              "      <th>3</th>\n",
              "      <td>4</td>\n",
              "      <td>Kathleen</td>\n",
              "      <td>Hanner</td>\n",
              "      <td>Female</td>\n",
              "      <td>United States</td>\n",
              "      <td>25</td>\n",
              "      <td>15/10/2017</td>\n",
              "      <td>3549</td>\n",
              "    </tr>\n",
              "    <tr>\n",
              "      <th>4</th>\n",
              "      <td>5</td>\n",
              "      <td>Nereida</td>\n",
              "      <td>Magwood</td>\n",
              "      <td>Female</td>\n",
              "      <td>United States</td>\n",
              "      <td>58</td>\n",
              "      <td>16/08/2016</td>\n",
              "      <td>2468</td>\n",
              "    </tr>\n",
              "  </tbody>\n",
              "</table>\n",
              "</div>"
            ],
            "text/plain": [
              "   0 First Name  Last Name  Gender        Country  Age        Date    Id\n",
              "0  1      Dulce      Abril  Female  United States   32  15/10/2017  1562\n",
              "1  2       Mara  Hashimoto  Female  Great Britain   25  16/08/2016  1582\n",
              "2  3     Philip       Gent    Male         France   36  21/05/2015  2587\n",
              "3  4   Kathleen     Hanner  Female  United States   25  15/10/2017  3549\n",
              "4  5    Nereida    Magwood  Female  United States   58  16/08/2016  2468"
            ]
          },
          "metadata": {
            "tags": []
          },
          "execution_count": 115
        }
      ]
    },
    {
      "cell_type": "markdown",
      "metadata": {
        "id": "Vp1kyJOuA67O",
        "colab_type": "text"
      },
      "source": [
        "##Exporting XLSX file"
      ]
    },
    {
      "cell_type": "code",
      "metadata": {
        "id": "n9d4BeZEA_BA",
        "colab_type": "code",
        "colab": {}
      },
      "source": [
        "read_file=pd.read_excel('file_example_XLSX_50.xlsx')\n",
        "read_file.to_csv('demo2.csv',index=None,header=True)"
      ],
      "execution_count": 0,
      "outputs": []
    },
    {
      "cell_type": "code",
      "metadata": {
        "id": "9GEO0yEHBSct",
        "colab_type": "code",
        "colab": {
          "base_uri": "https://localhost:8080/",
          "height": 359
        },
        "outputId": "d8239a48-0bb4-48fa-fe93-3fb6c103b94a"
      },
      "source": [
        "df=pd.read_csv('demo2.csv')\n",
        "df.head(10)"
      ],
      "execution_count": 118,
      "outputs": [
        {
          "output_type": "execute_result",
          "data": {
            "text/html": [
              "<div>\n",
              "<style scoped>\n",
              "    .dataframe tbody tr th:only-of-type {\n",
              "        vertical-align: middle;\n",
              "    }\n",
              "\n",
              "    .dataframe tbody tr th {\n",
              "        vertical-align: top;\n",
              "    }\n",
              "\n",
              "    .dataframe thead th {\n",
              "        text-align: right;\n",
              "    }\n",
              "</style>\n",
              "<table border=\"1\" class=\"dataframe\">\n",
              "  <thead>\n",
              "    <tr style=\"text-align: right;\">\n",
              "      <th></th>\n",
              "      <th>0</th>\n",
              "      <th>First Name</th>\n",
              "      <th>Last Name</th>\n",
              "      <th>Gender</th>\n",
              "      <th>Country</th>\n",
              "      <th>Age</th>\n",
              "      <th>Date</th>\n",
              "      <th>Id</th>\n",
              "    </tr>\n",
              "  </thead>\n",
              "  <tbody>\n",
              "    <tr>\n",
              "      <th>0</th>\n",
              "      <td>1</td>\n",
              "      <td>Dulce</td>\n",
              "      <td>Abril</td>\n",
              "      <td>Female</td>\n",
              "      <td>United States</td>\n",
              "      <td>32</td>\n",
              "      <td>15/10/2017</td>\n",
              "      <td>1562</td>\n",
              "    </tr>\n",
              "    <tr>\n",
              "      <th>1</th>\n",
              "      <td>2</td>\n",
              "      <td>Mara</td>\n",
              "      <td>Hashimoto</td>\n",
              "      <td>Female</td>\n",
              "      <td>Great Britain</td>\n",
              "      <td>25</td>\n",
              "      <td>16/08/2016</td>\n",
              "      <td>1582</td>\n",
              "    </tr>\n",
              "    <tr>\n",
              "      <th>2</th>\n",
              "      <td>3</td>\n",
              "      <td>Philip</td>\n",
              "      <td>Gent</td>\n",
              "      <td>Male</td>\n",
              "      <td>France</td>\n",
              "      <td>36</td>\n",
              "      <td>21/05/2015</td>\n",
              "      <td>2587</td>\n",
              "    </tr>\n",
              "    <tr>\n",
              "      <th>3</th>\n",
              "      <td>4</td>\n",
              "      <td>Kathleen</td>\n",
              "      <td>Hanner</td>\n",
              "      <td>Female</td>\n",
              "      <td>United States</td>\n",
              "      <td>25</td>\n",
              "      <td>15/10/2017</td>\n",
              "      <td>3549</td>\n",
              "    </tr>\n",
              "    <tr>\n",
              "      <th>4</th>\n",
              "      <td>5</td>\n",
              "      <td>Nereida</td>\n",
              "      <td>Magwood</td>\n",
              "      <td>Female</td>\n",
              "      <td>United States</td>\n",
              "      <td>58</td>\n",
              "      <td>16/08/2016</td>\n",
              "      <td>2468</td>\n",
              "    </tr>\n",
              "    <tr>\n",
              "      <th>5</th>\n",
              "      <td>6</td>\n",
              "      <td>Gaston</td>\n",
              "      <td>Brumm</td>\n",
              "      <td>Male</td>\n",
              "      <td>United States</td>\n",
              "      <td>24</td>\n",
              "      <td>21/05/2015</td>\n",
              "      <td>2554</td>\n",
              "    </tr>\n",
              "    <tr>\n",
              "      <th>6</th>\n",
              "      <td>7</td>\n",
              "      <td>Etta</td>\n",
              "      <td>Hurn</td>\n",
              "      <td>Female</td>\n",
              "      <td>Great Britain</td>\n",
              "      <td>56</td>\n",
              "      <td>15/10/2017</td>\n",
              "      <td>3598</td>\n",
              "    </tr>\n",
              "    <tr>\n",
              "      <th>7</th>\n",
              "      <td>8</td>\n",
              "      <td>Earlean</td>\n",
              "      <td>Melgar</td>\n",
              "      <td>Female</td>\n",
              "      <td>United States</td>\n",
              "      <td>27</td>\n",
              "      <td>16/08/2016</td>\n",
              "      <td>2456</td>\n",
              "    </tr>\n",
              "    <tr>\n",
              "      <th>8</th>\n",
              "      <td>9</td>\n",
              "      <td>Vincenza</td>\n",
              "      <td>Weiland</td>\n",
              "      <td>Female</td>\n",
              "      <td>United States</td>\n",
              "      <td>40</td>\n",
              "      <td>21/05/2015</td>\n",
              "      <td>6548</td>\n",
              "    </tr>\n",
              "    <tr>\n",
              "      <th>9</th>\n",
              "      <td>10</td>\n",
              "      <td>Fallon</td>\n",
              "      <td>Winward</td>\n",
              "      <td>Female</td>\n",
              "      <td>Great Britain</td>\n",
              "      <td>28</td>\n",
              "      <td>16/08/2016</td>\n",
              "      <td>5486</td>\n",
              "    </tr>\n",
              "  </tbody>\n",
              "</table>\n",
              "</div>"
            ],
            "text/plain": [
              "    0 First Name  Last Name  Gender        Country  Age        Date    Id\n",
              "0   1      Dulce      Abril  Female  United States   32  15/10/2017  1562\n",
              "1   2       Mara  Hashimoto  Female  Great Britain   25  16/08/2016  1582\n",
              "2   3     Philip       Gent    Male         France   36  21/05/2015  2587\n",
              "3   4   Kathleen     Hanner  Female  United States   25  15/10/2017  3549\n",
              "4   5    Nereida    Magwood  Female  United States   58  16/08/2016  2468\n",
              "5   6     Gaston      Brumm    Male  United States   24  21/05/2015  2554\n",
              "6   7       Etta       Hurn  Female  Great Britain   56  15/10/2017  3598\n",
              "7   8    Earlean     Melgar  Female  United States   27  16/08/2016  2456\n",
              "8   9   Vincenza    Weiland  Female  United States   40  21/05/2015  6548\n",
              "9  10     Fallon    Winward  Female  Great Britain   28  16/08/2016  5486"
            ]
          },
          "metadata": {
            "tags": []
          },
          "execution_count": 118
        }
      ]
    },
    {
      "cell_type": "code",
      "metadata": {
        "id": "VnTrawfOBguL",
        "colab_type": "code",
        "colab": {}
      },
      "source": [
        ""
      ],
      "execution_count": 0,
      "outputs": []
    }
  ]
}